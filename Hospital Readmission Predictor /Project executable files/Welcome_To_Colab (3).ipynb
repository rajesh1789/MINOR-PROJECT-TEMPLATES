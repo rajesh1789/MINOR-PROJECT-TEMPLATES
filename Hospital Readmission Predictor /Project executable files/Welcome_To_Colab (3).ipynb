{
  "cells": [
    {
      "cell_type": "code",
      "source": [
        "import numpy as np\n",
        "import pandas as pd"
      ],
      "metadata": {
        "id": "86hqudhiSaSL"
      },
      "execution_count": null,
      "outputs": []
    },
    {
      "cell_type": "code",
      "source": [
        "data=pd.read_csv(\"/content/US healthcare data-2 12 2020.csv\")"
      ],
      "metadata": {
        "id": "08ZG5l6VSaOp"
      },
      "execution_count": null,
      "outputs": []
    },
    {
      "cell_type": "code",
      "source": [
        "data.shape"
      ],
      "metadata": {
        "colab": {
          "base_uri": "https://localhost:8080/"
        },
        "id": "zEXnOqqNSaMt",
        "outputId": "2516b381-ad54-4739-a05c-f0aeebd0bf35"
      },
      "execution_count": null,
      "outputs": [
        {
          "output_type": "execute_result",
          "data": {
            "text/plain": [
              "(57735, 29)"
            ]
          },
          "metadata": {},
          "execution_count": 18
        }
      ]
    },
    {
      "cell_type": "code",
      "source": [
        "data.head()"
      ],
      "metadata": {
        "colab": {
          "base_uri": "https://localhost:8080/",
          "height": 342
        },
        "id": "7FyWX8kySaKU",
        "outputId": "bcaf821b-53f3-43f9-e036-f717e77c6fee"
      },
      "execution_count": null,
      "outputs": [
        {
          "output_type": "execute_result",
          "data": {
            "text/plain": [
              "              race  gender      age admission_type_id  \\\n",
              "0        Caucasian  Female   [0-30)            Others   \n",
              "1        Caucasian  Female   [0-30)         Emergency   \n",
              "2  AfricanAmerican  Female   [0-30)         Emergency   \n",
              "3        Caucasian    Male  [30-40)         Emergency   \n",
              "4        Caucasian    Male  [40-50)         Emergency   \n",
              "\n",
              "  discharge_disposition_id admission_source_id  time_in_hospital  \\\n",
              "0                   Others            Referral         -1.632460   \n",
              "1       Discharged to home      Emergency Room         -0.271144   \n",
              "2       Discharged to home      Emergency Room         -0.825587   \n",
              "3       Discharged to home      Emergency Room         -0.825587   \n",
              "4       Discharged to home      Emergency Room         -1.632460   \n",
              "\n",
              "   num_lab_procedures  num_medications  number_outpatient  ...  repaglinide  \\\n",
              "0           -0.108475        -3.304858          -0.443669  ...           No   \n",
              "1            0.808522         0.408817          -0.443669  ...           No   \n",
              "2           -1.629615        -0.237590           2.278833  ...           No   \n",
              "3            0.044197         0.167145          -0.443669  ...           No   \n",
              "4            0.400694        -1.082723          -0.443669  ...           No   \n",
              "\n",
              "   glipizide insulin change diabetesMed  readmitted age_derived count_Steady  \\\n",
              "0         No      No     No          No          NO   -2.390913    -0.964053   \n",
              "1         No      Up     Ch         Yes          NO   -2.390913    -0.964053   \n",
              "2     Steady      No     No         Yes          NO   -2.390913     0.835716   \n",
              "3         No      Up     Ch         Yes          NO   -1.716517    -0.964053   \n",
              "4     Steady  Steady     Ch         Yes          NO   -1.267255     1.525004   \n",
              "\n",
              "  count_Down  count_Up  \n",
              "0  -0.386999 -0.382050  \n",
              "1  -0.386999  2.617432  \n",
              "2  -0.386999 -0.382050  \n",
              "3  -0.386999  2.617432  \n",
              "4  -0.386999 -0.382050  \n",
              "\n",
              "[5 rows x 29 columns]"
            ],
            "text/html": [
              "\n",
              "  <div id=\"df-ff899ed9-ba74-4c14-8227-f3e17b1975c4\" class=\"colab-df-container\">\n",
              "    <div>\n",
              "<style scoped>\n",
              "    .dataframe tbody tr th:only-of-type {\n",
              "        vertical-align: middle;\n",
              "    }\n",
              "\n",
              "    .dataframe tbody tr th {\n",
              "        vertical-align: top;\n",
              "    }\n",
              "\n",
              "    .dataframe thead th {\n",
              "        text-align: right;\n",
              "    }\n",
              "</style>\n",
              "<table border=\"1\" class=\"dataframe\">\n",
              "  <thead>\n",
              "    <tr style=\"text-align: right;\">\n",
              "      <th></th>\n",
              "      <th>race</th>\n",
              "      <th>gender</th>\n",
              "      <th>age</th>\n",
              "      <th>admission_type_id</th>\n",
              "      <th>discharge_disposition_id</th>\n",
              "      <th>admission_source_id</th>\n",
              "      <th>time_in_hospital</th>\n",
              "      <th>num_lab_procedures</th>\n",
              "      <th>num_medications</th>\n",
              "      <th>number_outpatient</th>\n",
              "      <th>...</th>\n",
              "      <th>repaglinide</th>\n",
              "      <th>glipizide</th>\n",
              "      <th>insulin</th>\n",
              "      <th>change</th>\n",
              "      <th>diabetesMed</th>\n",
              "      <th>readmitted</th>\n",
              "      <th>age_derived</th>\n",
              "      <th>count_Steady</th>\n",
              "      <th>count_Down</th>\n",
              "      <th>count_Up</th>\n",
              "    </tr>\n",
              "  </thead>\n",
              "  <tbody>\n",
              "    <tr>\n",
              "      <th>0</th>\n",
              "      <td>Caucasian</td>\n",
              "      <td>Female</td>\n",
              "      <td>[0-30)</td>\n",
              "      <td>Others</td>\n",
              "      <td>Others</td>\n",
              "      <td>Referral</td>\n",
              "      <td>-1.632460</td>\n",
              "      <td>-0.108475</td>\n",
              "      <td>-3.304858</td>\n",
              "      <td>-0.443669</td>\n",
              "      <td>...</td>\n",
              "      <td>No</td>\n",
              "      <td>No</td>\n",
              "      <td>No</td>\n",
              "      <td>No</td>\n",
              "      <td>No</td>\n",
              "      <td>NO</td>\n",
              "      <td>-2.390913</td>\n",
              "      <td>-0.964053</td>\n",
              "      <td>-0.386999</td>\n",
              "      <td>-0.382050</td>\n",
              "    </tr>\n",
              "    <tr>\n",
              "      <th>1</th>\n",
              "      <td>Caucasian</td>\n",
              "      <td>Female</td>\n",
              "      <td>[0-30)</td>\n",
              "      <td>Emergency</td>\n",
              "      <td>Discharged to home</td>\n",
              "      <td>Emergency Room</td>\n",
              "      <td>-0.271144</td>\n",
              "      <td>0.808522</td>\n",
              "      <td>0.408817</td>\n",
              "      <td>-0.443669</td>\n",
              "      <td>...</td>\n",
              "      <td>No</td>\n",
              "      <td>No</td>\n",
              "      <td>Up</td>\n",
              "      <td>Ch</td>\n",
              "      <td>Yes</td>\n",
              "      <td>NO</td>\n",
              "      <td>-2.390913</td>\n",
              "      <td>-0.964053</td>\n",
              "      <td>-0.386999</td>\n",
              "      <td>2.617432</td>\n",
              "    </tr>\n",
              "    <tr>\n",
              "      <th>2</th>\n",
              "      <td>AfricanAmerican</td>\n",
              "      <td>Female</td>\n",
              "      <td>[0-30)</td>\n",
              "      <td>Emergency</td>\n",
              "      <td>Discharged to home</td>\n",
              "      <td>Emergency Room</td>\n",
              "      <td>-0.825587</td>\n",
              "      <td>-1.629615</td>\n",
              "      <td>-0.237590</td>\n",
              "      <td>2.278833</td>\n",
              "      <td>...</td>\n",
              "      <td>No</td>\n",
              "      <td>Steady</td>\n",
              "      <td>No</td>\n",
              "      <td>No</td>\n",
              "      <td>Yes</td>\n",
              "      <td>NO</td>\n",
              "      <td>-2.390913</td>\n",
              "      <td>0.835716</td>\n",
              "      <td>-0.386999</td>\n",
              "      <td>-0.382050</td>\n",
              "    </tr>\n",
              "    <tr>\n",
              "      <th>3</th>\n",
              "      <td>Caucasian</td>\n",
              "      <td>Male</td>\n",
              "      <td>[30-40)</td>\n",
              "      <td>Emergency</td>\n",
              "      <td>Discharged to home</td>\n",
              "      <td>Emergency Room</td>\n",
              "      <td>-0.825587</td>\n",
              "      <td>0.044197</td>\n",
              "      <td>0.167145</td>\n",
              "      <td>-0.443669</td>\n",
              "      <td>...</td>\n",
              "      <td>No</td>\n",
              "      <td>No</td>\n",
              "      <td>Up</td>\n",
              "      <td>Ch</td>\n",
              "      <td>Yes</td>\n",
              "      <td>NO</td>\n",
              "      <td>-1.716517</td>\n",
              "      <td>-0.964053</td>\n",
              "      <td>-0.386999</td>\n",
              "      <td>2.617432</td>\n",
              "    </tr>\n",
              "    <tr>\n",
              "      <th>4</th>\n",
              "      <td>Caucasian</td>\n",
              "      <td>Male</td>\n",
              "      <td>[40-50)</td>\n",
              "      <td>Emergency</td>\n",
              "      <td>Discharged to home</td>\n",
              "      <td>Emergency Room</td>\n",
              "      <td>-1.632460</td>\n",
              "      <td>0.400694</td>\n",
              "      <td>-1.082723</td>\n",
              "      <td>-0.443669</td>\n",
              "      <td>...</td>\n",
              "      <td>No</td>\n",
              "      <td>Steady</td>\n",
              "      <td>Steady</td>\n",
              "      <td>Ch</td>\n",
              "      <td>Yes</td>\n",
              "      <td>NO</td>\n",
              "      <td>-1.267255</td>\n",
              "      <td>1.525004</td>\n",
              "      <td>-0.386999</td>\n",
              "      <td>-0.382050</td>\n",
              "    </tr>\n",
              "  </tbody>\n",
              "</table>\n",
              "<p>5 rows × 29 columns</p>\n",
              "</div>\n",
              "    <div class=\"colab-df-buttons\">\n",
              "\n",
              "  <div class=\"colab-df-container\">\n",
              "    <button class=\"colab-df-convert\" onclick=\"convertToInteractive('df-ff899ed9-ba74-4c14-8227-f3e17b1975c4')\"\n",
              "            title=\"Convert this dataframe to an interactive table.\"\n",
              "            style=\"display:none;\">\n",
              "\n",
              "  <svg xmlns=\"http://www.w3.org/2000/svg\" height=\"24px\" viewBox=\"0 -960 960 960\">\n",
              "    <path d=\"M120-120v-720h720v720H120Zm60-500h600v-160H180v160Zm220 220h160v-160H400v160Zm0 220h160v-160H400v160ZM180-400h160v-160H180v160Zm440 0h160v-160H620v160ZM180-180h160v-160H180v160Zm440 0h160v-160H620v160Z\"/>\n",
              "  </svg>\n",
              "    </button>\n",
              "\n",
              "  <style>\n",
              "    .colab-df-container {\n",
              "      display:flex;\n",
              "      gap: 12px;\n",
              "    }\n",
              "\n",
              "    .colab-df-convert {\n",
              "      background-color: #E8F0FE;\n",
              "      border: none;\n",
              "      border-radius: 50%;\n",
              "      cursor: pointer;\n",
              "      display: none;\n",
              "      fill: #1967D2;\n",
              "      height: 32px;\n",
              "      padding: 0 0 0 0;\n",
              "      width: 32px;\n",
              "    }\n",
              "\n",
              "    .colab-df-convert:hover {\n",
              "      background-color: #E2EBFA;\n",
              "      box-shadow: 0px 1px 2px rgba(60, 64, 67, 0.3), 0px 1px 3px 1px rgba(60, 64, 67, 0.15);\n",
              "      fill: #174EA6;\n",
              "    }\n",
              "\n",
              "    .colab-df-buttons div {\n",
              "      margin-bottom: 4px;\n",
              "    }\n",
              "\n",
              "    [theme=dark] .colab-df-convert {\n",
              "      background-color: #3B4455;\n",
              "      fill: #D2E3FC;\n",
              "    }\n",
              "\n",
              "    [theme=dark] .colab-df-convert:hover {\n",
              "      background-color: #434B5C;\n",
              "      box-shadow: 0px 1px 3px 1px rgba(0, 0, 0, 0.15);\n",
              "      filter: drop-shadow(0px 1px 2px rgba(0, 0, 0, 0.3));\n",
              "      fill: #FFFFFF;\n",
              "    }\n",
              "  </style>\n",
              "\n",
              "    <script>\n",
              "      const buttonEl =\n",
              "        document.querySelector('#df-ff899ed9-ba74-4c14-8227-f3e17b1975c4 button.colab-df-convert');\n",
              "      buttonEl.style.display =\n",
              "        google.colab.kernel.accessAllowed ? 'block' : 'none';\n",
              "\n",
              "      async function convertToInteractive(key) {\n",
              "        const element = document.querySelector('#df-ff899ed9-ba74-4c14-8227-f3e17b1975c4');\n",
              "        const dataTable =\n",
              "          await google.colab.kernel.invokeFunction('convertToInteractive',\n",
              "                                                    [key], {});\n",
              "        if (!dataTable) return;\n",
              "\n",
              "        const docLinkHtml = 'Like what you see? Visit the ' +\n",
              "          '<a target=\"_blank\" href=https://colab.research.google.com/notebooks/data_table.ipynb>data table notebook</a>'\n",
              "          + ' to learn more about interactive tables.';\n",
              "        element.innerHTML = '';\n",
              "        dataTable['output_type'] = 'display_data';\n",
              "        await google.colab.output.renderOutput(dataTable, element);\n",
              "        const docLink = document.createElement('div');\n",
              "        docLink.innerHTML = docLinkHtml;\n",
              "        element.appendChild(docLink);\n",
              "      }\n",
              "    </script>\n",
              "  </div>\n",
              "\n",
              "\n",
              "<div id=\"df-f9d10ba3-2a6b-4685-a8ed-e44993f70f98\">\n",
              "  <button class=\"colab-df-quickchart\" onclick=\"quickchart('df-f9d10ba3-2a6b-4685-a8ed-e44993f70f98')\"\n",
              "            title=\"Suggest charts\"\n",
              "            style=\"display:none;\">\n",
              "\n",
              "<svg xmlns=\"http://www.w3.org/2000/svg\" height=\"24px\"viewBox=\"0 0 24 24\"\n",
              "     width=\"24px\">\n",
              "    <g>\n",
              "        <path d=\"M19 3H5c-1.1 0-2 .9-2 2v14c0 1.1.9 2 2 2h14c1.1 0 2-.9 2-2V5c0-1.1-.9-2-2-2zM9 17H7v-7h2v7zm4 0h-2V7h2v10zm4 0h-2v-4h2v4z\"/>\n",
              "    </g>\n",
              "</svg>\n",
              "  </button>\n",
              "\n",
              "<style>\n",
              "  .colab-df-quickchart {\n",
              "      --bg-color: #E8F0FE;\n",
              "      --fill-color: #1967D2;\n",
              "      --hover-bg-color: #E2EBFA;\n",
              "      --hover-fill-color: #174EA6;\n",
              "      --disabled-fill-color: #AAA;\n",
              "      --disabled-bg-color: #DDD;\n",
              "  }\n",
              "\n",
              "  [theme=dark] .colab-df-quickchart {\n",
              "      --bg-color: #3B4455;\n",
              "      --fill-color: #D2E3FC;\n",
              "      --hover-bg-color: #434B5C;\n",
              "      --hover-fill-color: #FFFFFF;\n",
              "      --disabled-bg-color: #3B4455;\n",
              "      --disabled-fill-color: #666;\n",
              "  }\n",
              "\n",
              "  .colab-df-quickchart {\n",
              "    background-color: var(--bg-color);\n",
              "    border: none;\n",
              "    border-radius: 50%;\n",
              "    cursor: pointer;\n",
              "    display: none;\n",
              "    fill: var(--fill-color);\n",
              "    height: 32px;\n",
              "    padding: 0;\n",
              "    width: 32px;\n",
              "  }\n",
              "\n",
              "  .colab-df-quickchart:hover {\n",
              "    background-color: var(--hover-bg-color);\n",
              "    box-shadow: 0 1px 2px rgba(60, 64, 67, 0.3), 0 1px 3px 1px rgba(60, 64, 67, 0.15);\n",
              "    fill: var(--button-hover-fill-color);\n",
              "  }\n",
              "\n",
              "  .colab-df-quickchart-complete:disabled,\n",
              "  .colab-df-quickchart-complete:disabled:hover {\n",
              "    background-color: var(--disabled-bg-color);\n",
              "    fill: var(--disabled-fill-color);\n",
              "    box-shadow: none;\n",
              "  }\n",
              "\n",
              "  .colab-df-spinner {\n",
              "    border: 2px solid var(--fill-color);\n",
              "    border-color: transparent;\n",
              "    border-bottom-color: var(--fill-color);\n",
              "    animation:\n",
              "      spin 1s steps(1) infinite;\n",
              "  }\n",
              "\n",
              "  @keyframes spin {\n",
              "    0% {\n",
              "      border-color: transparent;\n",
              "      border-bottom-color: var(--fill-color);\n",
              "      border-left-color: var(--fill-color);\n",
              "    }\n",
              "    20% {\n",
              "      border-color: transparent;\n",
              "      border-left-color: var(--fill-color);\n",
              "      border-top-color: var(--fill-color);\n",
              "    }\n",
              "    30% {\n",
              "      border-color: transparent;\n",
              "      border-left-color: var(--fill-color);\n",
              "      border-top-color: var(--fill-color);\n",
              "      border-right-color: var(--fill-color);\n",
              "    }\n",
              "    40% {\n",
              "      border-color: transparent;\n",
              "      border-right-color: var(--fill-color);\n",
              "      border-top-color: var(--fill-color);\n",
              "    }\n",
              "    60% {\n",
              "      border-color: transparent;\n",
              "      border-right-color: var(--fill-color);\n",
              "    }\n",
              "    80% {\n",
              "      border-color: transparent;\n",
              "      border-right-color: var(--fill-color);\n",
              "      border-bottom-color: var(--fill-color);\n",
              "    }\n",
              "    90% {\n",
              "      border-color: transparent;\n",
              "      border-bottom-color: var(--fill-color);\n",
              "    }\n",
              "  }\n",
              "</style>\n",
              "\n",
              "  <script>\n",
              "    async function quickchart(key) {\n",
              "      const quickchartButtonEl =\n",
              "        document.querySelector('#' + key + ' button');\n",
              "      quickchartButtonEl.disabled = true;  // To prevent multiple clicks.\n",
              "      quickchartButtonEl.classList.add('colab-df-spinner');\n",
              "      try {\n",
              "        const charts = await google.colab.kernel.invokeFunction(\n",
              "            'suggestCharts', [key], {});\n",
              "      } catch (error) {\n",
              "        console.error('Error during call to suggestCharts:', error);\n",
              "      }\n",
              "      quickchartButtonEl.classList.remove('colab-df-spinner');\n",
              "      quickchartButtonEl.classList.add('colab-df-quickchart-complete');\n",
              "    }\n",
              "    (() => {\n",
              "      let quickchartButtonEl =\n",
              "        document.querySelector('#df-f9d10ba3-2a6b-4685-a8ed-e44993f70f98 button');\n",
              "      quickchartButtonEl.style.display =\n",
              "        google.colab.kernel.accessAllowed ? 'block' : 'none';\n",
              "    })();\n",
              "  </script>\n",
              "</div>\n",
              "\n",
              "    </div>\n",
              "  </div>\n"
            ],
            "application/vnd.google.colaboratory.intrinsic+json": {
              "type": "dataframe",
              "variable_name": "data"
            }
          },
          "metadata": {},
          "execution_count": 19
        }
      ]
    },
    {
      "cell_type": "code",
      "source": [
        "data.tail()"
      ],
      "metadata": {
        "colab": {
          "base_uri": "https://localhost:8080/",
          "height": 342
        },
        "id": "PISZgnOQSaHk",
        "outputId": "0a547426-23d0-4438-f6b6-5d1871666426"
      },
      "execution_count": null,
      "outputs": [
        {
          "output_type": "execute_result",
          "data": {
            "text/plain": [
              "                  race  gender      age admission_type_id  \\\n",
              "57730        Caucasian  Female  [70-80)         Emergency   \n",
              "57731        Caucasian  Female   [0-30)            Urgent   \n",
              "57732        Caucasian    Male  [60-70)          Elective   \n",
              "57733        Caucasian    Male  [50-60)         Emergency   \n",
              "57734  AfricanAmerican  Female  [70-80)         Emergency   \n",
              "\n",
              "      discharge_disposition_id admission_source_id  time_in_hospital  \\\n",
              "57730   Discharged/Transferred      Emergency Room          0.148889   \n",
              "57731       Discharged to home      Emergency Room          0.485715   \n",
              "57732       Discharged to home            Referral          0.766108   \n",
              "57733   Discharged/Transferred      Emergency Room          0.485715   \n",
              "57734       Discharged to home      Emergency Room          0.148889   \n",
              "\n",
              "       num_lab_procedures  num_medications  number_outpatient  ...  \\\n",
              "57730           -0.159349         0.167145          -0.443669  ...   \n",
              "57731            0.859528        -0.890313          -0.443669  ...   \n",
              "57732            0.349745         0.632617          -0.443669  ...   \n",
              "57733            2.136333         1.563876          -0.443669  ...   \n",
              "57734            0.553583        -0.544050          -0.443669  ...   \n",
              "\n",
              "       repaglinide  glipizide insulin change diabetesMed  readmitted  \\\n",
              "57730           No         No  Steady     Ch         Yes          NO   \n",
              "57731           No         No      Up     Ch         Yes          NO   \n",
              "57732           No         No    Down     Ch         Yes          NO   \n",
              "57733           No         No  Steady     No         Yes          NO   \n",
              "57734           No         No  Steady     No         Yes          NO   \n",
              "\n",
              "      age_derived count_Steady count_Down  count_Up  \n",
              "57730    0.452563     0.835716  -0.386999 -0.382050  \n",
              "57731   -2.390913    -0.964053  -0.386999  2.617432  \n",
              "57732   -0.178500     0.835716   2.583969 -0.382050  \n",
              "57733   -0.753001     0.835716  -0.386999 -0.382050  \n",
              "57734    0.452563     0.000000        NaN       NaN  \n",
              "\n",
              "[5 rows x 29 columns]"
            ],
            "text/html": [
              "\n",
              "  <div id=\"df-b16fe2f1-9aa4-4e0e-86a9-c2ce4c33758f\" class=\"colab-df-container\">\n",
              "    <div>\n",
              "<style scoped>\n",
              "    .dataframe tbody tr th:only-of-type {\n",
              "        vertical-align: middle;\n",
              "    }\n",
              "\n",
              "    .dataframe tbody tr th {\n",
              "        vertical-align: top;\n",
              "    }\n",
              "\n",
              "    .dataframe thead th {\n",
              "        text-align: right;\n",
              "    }\n",
              "</style>\n",
              "<table border=\"1\" class=\"dataframe\">\n",
              "  <thead>\n",
              "    <tr style=\"text-align: right;\">\n",
              "      <th></th>\n",
              "      <th>race</th>\n",
              "      <th>gender</th>\n",
              "      <th>age</th>\n",
              "      <th>admission_type_id</th>\n",
              "      <th>discharge_disposition_id</th>\n",
              "      <th>admission_source_id</th>\n",
              "      <th>time_in_hospital</th>\n",
              "      <th>num_lab_procedures</th>\n",
              "      <th>num_medications</th>\n",
              "      <th>number_outpatient</th>\n",
              "      <th>...</th>\n",
              "      <th>repaglinide</th>\n",
              "      <th>glipizide</th>\n",
              "      <th>insulin</th>\n",
              "      <th>change</th>\n",
              "      <th>diabetesMed</th>\n",
              "      <th>readmitted</th>\n",
              "      <th>age_derived</th>\n",
              "      <th>count_Steady</th>\n",
              "      <th>count_Down</th>\n",
              "      <th>count_Up</th>\n",
              "    </tr>\n",
              "  </thead>\n",
              "  <tbody>\n",
              "    <tr>\n",
              "      <th>57730</th>\n",
              "      <td>Caucasian</td>\n",
              "      <td>Female</td>\n",
              "      <td>[70-80)</td>\n",
              "      <td>Emergency</td>\n",
              "      <td>Discharged/Transferred</td>\n",
              "      <td>Emergency Room</td>\n",
              "      <td>0.148889</td>\n",
              "      <td>-0.159349</td>\n",
              "      <td>0.167145</td>\n",
              "      <td>-0.443669</td>\n",
              "      <td>...</td>\n",
              "      <td>No</td>\n",
              "      <td>No</td>\n",
              "      <td>Steady</td>\n",
              "      <td>Ch</td>\n",
              "      <td>Yes</td>\n",
              "      <td>NO</td>\n",
              "      <td>0.452563</td>\n",
              "      <td>0.835716</td>\n",
              "      <td>-0.386999</td>\n",
              "      <td>-0.382050</td>\n",
              "    </tr>\n",
              "    <tr>\n",
              "      <th>57731</th>\n",
              "      <td>Caucasian</td>\n",
              "      <td>Female</td>\n",
              "      <td>[0-30)</td>\n",
              "      <td>Urgent</td>\n",
              "      <td>Discharged to home</td>\n",
              "      <td>Emergency Room</td>\n",
              "      <td>0.485715</td>\n",
              "      <td>0.859528</td>\n",
              "      <td>-0.890313</td>\n",
              "      <td>-0.443669</td>\n",
              "      <td>...</td>\n",
              "      <td>No</td>\n",
              "      <td>No</td>\n",
              "      <td>Up</td>\n",
              "      <td>Ch</td>\n",
              "      <td>Yes</td>\n",
              "      <td>NO</td>\n",
              "      <td>-2.390913</td>\n",
              "      <td>-0.964053</td>\n",
              "      <td>-0.386999</td>\n",
              "      <td>2.617432</td>\n",
              "    </tr>\n",
              "    <tr>\n",
              "      <th>57732</th>\n",
              "      <td>Caucasian</td>\n",
              "      <td>Male</td>\n",
              "      <td>[60-70)</td>\n",
              "      <td>Elective</td>\n",
              "      <td>Discharged to home</td>\n",
              "      <td>Referral</td>\n",
              "      <td>0.766108</td>\n",
              "      <td>0.349745</td>\n",
              "      <td>0.632617</td>\n",
              "      <td>-0.443669</td>\n",
              "      <td>...</td>\n",
              "      <td>No</td>\n",
              "      <td>No</td>\n",
              "      <td>Down</td>\n",
              "      <td>Ch</td>\n",
              "      <td>Yes</td>\n",
              "      <td>NO</td>\n",
              "      <td>-0.178500</td>\n",
              "      <td>0.835716</td>\n",
              "      <td>2.583969</td>\n",
              "      <td>-0.382050</td>\n",
              "    </tr>\n",
              "    <tr>\n",
              "      <th>57733</th>\n",
              "      <td>Caucasian</td>\n",
              "      <td>Male</td>\n",
              "      <td>[50-60)</td>\n",
              "      <td>Emergency</td>\n",
              "      <td>Discharged/Transferred</td>\n",
              "      <td>Emergency Room</td>\n",
              "      <td>0.485715</td>\n",
              "      <td>2.136333</td>\n",
              "      <td>1.563876</td>\n",
              "      <td>-0.443669</td>\n",
              "      <td>...</td>\n",
              "      <td>No</td>\n",
              "      <td>No</td>\n",
              "      <td>Steady</td>\n",
              "      <td>No</td>\n",
              "      <td>Yes</td>\n",
              "      <td>NO</td>\n",
              "      <td>-0.753001</td>\n",
              "      <td>0.835716</td>\n",
              "      <td>-0.386999</td>\n",
              "      <td>-0.382050</td>\n",
              "    </tr>\n",
              "    <tr>\n",
              "      <th>57734</th>\n",
              "      <td>AfricanAmerican</td>\n",
              "      <td>Female</td>\n",
              "      <td>[70-80)</td>\n",
              "      <td>Emergency</td>\n",
              "      <td>Discharged to home</td>\n",
              "      <td>Emergency Room</td>\n",
              "      <td>0.148889</td>\n",
              "      <td>0.553583</td>\n",
              "      <td>-0.544050</td>\n",
              "      <td>-0.443669</td>\n",
              "      <td>...</td>\n",
              "      <td>No</td>\n",
              "      <td>No</td>\n",
              "      <td>Steady</td>\n",
              "      <td>No</td>\n",
              "      <td>Yes</td>\n",
              "      <td>NO</td>\n",
              "      <td>0.452563</td>\n",
              "      <td>0.000000</td>\n",
              "      <td>NaN</td>\n",
              "      <td>NaN</td>\n",
              "    </tr>\n",
              "  </tbody>\n",
              "</table>\n",
              "<p>5 rows × 29 columns</p>\n",
              "</div>\n",
              "    <div class=\"colab-df-buttons\">\n",
              "\n",
              "  <div class=\"colab-df-container\">\n",
              "    <button class=\"colab-df-convert\" onclick=\"convertToInteractive('df-b16fe2f1-9aa4-4e0e-86a9-c2ce4c33758f')\"\n",
              "            title=\"Convert this dataframe to an interactive table.\"\n",
              "            style=\"display:none;\">\n",
              "\n",
              "  <svg xmlns=\"http://www.w3.org/2000/svg\" height=\"24px\" viewBox=\"0 -960 960 960\">\n",
              "    <path d=\"M120-120v-720h720v720H120Zm60-500h600v-160H180v160Zm220 220h160v-160H400v160Zm0 220h160v-160H400v160ZM180-400h160v-160H180v160Zm440 0h160v-160H620v160ZM180-180h160v-160H180v160Zm440 0h160v-160H620v160Z\"/>\n",
              "  </svg>\n",
              "    </button>\n",
              "\n",
              "  <style>\n",
              "    .colab-df-container {\n",
              "      display:flex;\n",
              "      gap: 12px;\n",
              "    }\n",
              "\n",
              "    .colab-df-convert {\n",
              "      background-color: #E8F0FE;\n",
              "      border: none;\n",
              "      border-radius: 50%;\n",
              "      cursor: pointer;\n",
              "      display: none;\n",
              "      fill: #1967D2;\n",
              "      height: 32px;\n",
              "      padding: 0 0 0 0;\n",
              "      width: 32px;\n",
              "    }\n",
              "\n",
              "    .colab-df-convert:hover {\n",
              "      background-color: #E2EBFA;\n",
              "      box-shadow: 0px 1px 2px rgba(60, 64, 67, 0.3), 0px 1px 3px 1px rgba(60, 64, 67, 0.15);\n",
              "      fill: #174EA6;\n",
              "    }\n",
              "\n",
              "    .colab-df-buttons div {\n",
              "      margin-bottom: 4px;\n",
              "    }\n",
              "\n",
              "    [theme=dark] .colab-df-convert {\n",
              "      background-color: #3B4455;\n",
              "      fill: #D2E3FC;\n",
              "    }\n",
              "\n",
              "    [theme=dark] .colab-df-convert:hover {\n",
              "      background-color: #434B5C;\n",
              "      box-shadow: 0px 1px 3px 1px rgba(0, 0, 0, 0.15);\n",
              "      filter: drop-shadow(0px 1px 2px rgba(0, 0, 0, 0.3));\n",
              "      fill: #FFFFFF;\n",
              "    }\n",
              "  </style>\n",
              "\n",
              "    <script>\n",
              "      const buttonEl =\n",
              "        document.querySelector('#df-b16fe2f1-9aa4-4e0e-86a9-c2ce4c33758f button.colab-df-convert');\n",
              "      buttonEl.style.display =\n",
              "        google.colab.kernel.accessAllowed ? 'block' : 'none';\n",
              "\n",
              "      async function convertToInteractive(key) {\n",
              "        const element = document.querySelector('#df-b16fe2f1-9aa4-4e0e-86a9-c2ce4c33758f');\n",
              "        const dataTable =\n",
              "          await google.colab.kernel.invokeFunction('convertToInteractive',\n",
              "                                                    [key], {});\n",
              "        if (!dataTable) return;\n",
              "\n",
              "        const docLinkHtml = 'Like what you see? Visit the ' +\n",
              "          '<a target=\"_blank\" href=https://colab.research.google.com/notebooks/data_table.ipynb>data table notebook</a>'\n",
              "          + ' to learn more about interactive tables.';\n",
              "        element.innerHTML = '';\n",
              "        dataTable['output_type'] = 'display_data';\n",
              "        await google.colab.output.renderOutput(dataTable, element);\n",
              "        const docLink = document.createElement('div');\n",
              "        docLink.innerHTML = docLinkHtml;\n",
              "        element.appendChild(docLink);\n",
              "      }\n",
              "    </script>\n",
              "  </div>\n",
              "\n",
              "\n",
              "<div id=\"df-c4525896-d057-4805-b761-e8c6c50d4361\">\n",
              "  <button class=\"colab-df-quickchart\" onclick=\"quickchart('df-c4525896-d057-4805-b761-e8c6c50d4361')\"\n",
              "            title=\"Suggest charts\"\n",
              "            style=\"display:none;\">\n",
              "\n",
              "<svg xmlns=\"http://www.w3.org/2000/svg\" height=\"24px\"viewBox=\"0 0 24 24\"\n",
              "     width=\"24px\">\n",
              "    <g>\n",
              "        <path d=\"M19 3H5c-1.1 0-2 .9-2 2v14c0 1.1.9 2 2 2h14c1.1 0 2-.9 2-2V5c0-1.1-.9-2-2-2zM9 17H7v-7h2v7zm4 0h-2V7h2v10zm4 0h-2v-4h2v4z\"/>\n",
              "    </g>\n",
              "</svg>\n",
              "  </button>\n",
              "\n",
              "<style>\n",
              "  .colab-df-quickchart {\n",
              "      --bg-color: #E8F0FE;\n",
              "      --fill-color: #1967D2;\n",
              "      --hover-bg-color: #E2EBFA;\n",
              "      --hover-fill-color: #174EA6;\n",
              "      --disabled-fill-color: #AAA;\n",
              "      --disabled-bg-color: #DDD;\n",
              "  }\n",
              "\n",
              "  [theme=dark] .colab-df-quickchart {\n",
              "      --bg-color: #3B4455;\n",
              "      --fill-color: #D2E3FC;\n",
              "      --hover-bg-color: #434B5C;\n",
              "      --hover-fill-color: #FFFFFF;\n",
              "      --disabled-bg-color: #3B4455;\n",
              "      --disabled-fill-color: #666;\n",
              "  }\n",
              "\n",
              "  .colab-df-quickchart {\n",
              "    background-color: var(--bg-color);\n",
              "    border: none;\n",
              "    border-radius: 50%;\n",
              "    cursor: pointer;\n",
              "    display: none;\n",
              "    fill: var(--fill-color);\n",
              "    height: 32px;\n",
              "    padding: 0;\n",
              "    width: 32px;\n",
              "  }\n",
              "\n",
              "  .colab-df-quickchart:hover {\n",
              "    background-color: var(--hover-bg-color);\n",
              "    box-shadow: 0 1px 2px rgba(60, 64, 67, 0.3), 0 1px 3px 1px rgba(60, 64, 67, 0.15);\n",
              "    fill: var(--button-hover-fill-color);\n",
              "  }\n",
              "\n",
              "  .colab-df-quickchart-complete:disabled,\n",
              "  .colab-df-quickchart-complete:disabled:hover {\n",
              "    background-color: var(--disabled-bg-color);\n",
              "    fill: var(--disabled-fill-color);\n",
              "    box-shadow: none;\n",
              "  }\n",
              "\n",
              "  .colab-df-spinner {\n",
              "    border: 2px solid var(--fill-color);\n",
              "    border-color: transparent;\n",
              "    border-bottom-color: var(--fill-color);\n",
              "    animation:\n",
              "      spin 1s steps(1) infinite;\n",
              "  }\n",
              "\n",
              "  @keyframes spin {\n",
              "    0% {\n",
              "      border-color: transparent;\n",
              "      border-bottom-color: var(--fill-color);\n",
              "      border-left-color: var(--fill-color);\n",
              "    }\n",
              "    20% {\n",
              "      border-color: transparent;\n",
              "      border-left-color: var(--fill-color);\n",
              "      border-top-color: var(--fill-color);\n",
              "    }\n",
              "    30% {\n",
              "      border-color: transparent;\n",
              "      border-left-color: var(--fill-color);\n",
              "      border-top-color: var(--fill-color);\n",
              "      border-right-color: var(--fill-color);\n",
              "    }\n",
              "    40% {\n",
              "      border-color: transparent;\n",
              "      border-right-color: var(--fill-color);\n",
              "      border-top-color: var(--fill-color);\n",
              "    }\n",
              "    60% {\n",
              "      border-color: transparent;\n",
              "      border-right-color: var(--fill-color);\n",
              "    }\n",
              "    80% {\n",
              "      border-color: transparent;\n",
              "      border-right-color: var(--fill-color);\n",
              "      border-bottom-color: var(--fill-color);\n",
              "    }\n",
              "    90% {\n",
              "      border-color: transparent;\n",
              "      border-bottom-color: var(--fill-color);\n",
              "    }\n",
              "  }\n",
              "</style>\n",
              "\n",
              "  <script>\n",
              "    async function quickchart(key) {\n",
              "      const quickchartButtonEl =\n",
              "        document.querySelector('#' + key + ' button');\n",
              "      quickchartButtonEl.disabled = true;  // To prevent multiple clicks.\n",
              "      quickchartButtonEl.classList.add('colab-df-spinner');\n",
              "      try {\n",
              "        const charts = await google.colab.kernel.invokeFunction(\n",
              "            'suggestCharts', [key], {});\n",
              "      } catch (error) {\n",
              "        console.error('Error during call to suggestCharts:', error);\n",
              "      }\n",
              "      quickchartButtonEl.classList.remove('colab-df-spinner');\n",
              "      quickchartButtonEl.classList.add('colab-df-quickchart-complete');\n",
              "    }\n",
              "    (() => {\n",
              "      let quickchartButtonEl =\n",
              "        document.querySelector('#df-c4525896-d057-4805-b761-e8c6c50d4361 button');\n",
              "      quickchartButtonEl.style.display =\n",
              "        google.colab.kernel.accessAllowed ? 'block' : 'none';\n",
              "    })();\n",
              "  </script>\n",
              "</div>\n",
              "\n",
              "    </div>\n",
              "  </div>\n"
            ],
            "application/vnd.google.colaboratory.intrinsic+json": {
              "type": "dataframe"
            }
          },
          "metadata": {},
          "execution_count": 20
        }
      ]
    },
    {
      "cell_type": "code",
      "source": [
        "data.info()"
      ],
      "metadata": {
        "colab": {
          "base_uri": "https://localhost:8080/"
        },
        "id": "kY3rCY85SaFH",
        "outputId": "0e4962ea-6bc4-4c82-f8a0-13ca82cd41f0"
      },
      "execution_count": null,
      "outputs": [
        {
          "output_type": "stream",
          "name": "stdout",
          "text": [
            "<class 'pandas.core.frame.DataFrame'>\n",
            "RangeIndex: 57735 entries, 0 to 57734\n",
            "Data columns (total 29 columns):\n",
            " #   Column                    Non-Null Count  Dtype  \n",
            "---  ------                    --------------  -----  \n",
            " 0   race                      57735 non-null  object \n",
            " 1   gender                    57735 non-null  object \n",
            " 2   age                       57735 non-null  object \n",
            " 3   admission_type_id         57735 non-null  object \n",
            " 4   discharge_disposition_id  57735 non-null  object \n",
            " 5   admission_source_id       57735 non-null  object \n",
            " 6   time_in_hospital          57735 non-null  float64\n",
            " 7   num_lab_procedures        57735 non-null  float64\n",
            " 8   num_medications           57735 non-null  float64\n",
            " 9   number_outpatient         57735 non-null  float64\n",
            " 10  number_emergency          57735 non-null  float64\n",
            " 11  number_inpatient          57735 non-null  float64\n",
            " 12  diag_1                    57722 non-null  object \n",
            " 13  diag_2                    57450 non-null  object \n",
            " 14  diag_3                    56574 non-null  object \n",
            " 15  number_diagnoses          57735 non-null  float64\n",
            " 16  max_glu_serum             4728 non-null   object \n",
            " 17  A1Cresult                 8740 non-null   object \n",
            " 18  metformin                 57735 non-null  object \n",
            " 19  repaglinide               57735 non-null  object \n",
            " 20  glipizide                 57735 non-null  object \n",
            " 21  insulin                   57735 non-null  object \n",
            " 22  change                    57735 non-null  object \n",
            " 23  diabetesMed               57735 non-null  object \n",
            " 24  readmitted                57735 non-null  object \n",
            " 25  age_derived               57735 non-null  float64\n",
            " 26  count_Steady              57735 non-null  float64\n",
            " 27  count_Down                57734 non-null  float64\n",
            " 28  count_Up                  57734 non-null  float64\n",
            "dtypes: float64(11), object(18)\n",
            "memory usage: 12.8+ MB\n"
          ]
        }
      ]
    },
    {
      "cell_type": "code",
      "source": [
        "data.isnull().sum()"
      ],
      "metadata": {
        "colab": {
          "base_uri": "https://localhost:8080/"
        },
        "id": "MCf8zljDSaCd",
        "outputId": "e9eb1c3e-de08-4056-bae5-0b35b19c7ae4"
      },
      "execution_count": null,
      "outputs": [
        {
          "output_type": "execute_result",
          "data": {
            "text/plain": [
              "race                            0\n",
              "gender                          0\n",
              "age                             0\n",
              "admission_type_id               0\n",
              "discharge_disposition_id        0\n",
              "admission_source_id             0\n",
              "time_in_hospital                0\n",
              "num_lab_procedures              0\n",
              "num_medications                 0\n",
              "number_outpatient               0\n",
              "number_emergency                0\n",
              "number_inpatient                0\n",
              "diag_1                         13\n",
              "diag_2                        285\n",
              "diag_3                       1161\n",
              "number_diagnoses                0\n",
              "max_glu_serum               53007\n",
              "A1Cresult                   48995\n",
              "metformin                       0\n",
              "repaglinide                     0\n",
              "glipizide                       0\n",
              "insulin                         0\n",
              "change                          0\n",
              "diabetesMed                     0\n",
              "readmitted                      0\n",
              "age_derived                     0\n",
              "count_Steady                    0\n",
              "count_Down                      1\n",
              "count_Up                        1\n",
              "dtype: int64"
            ]
          },
          "metadata": {},
          "execution_count": 22
        }
      ]
    },
    {
      "cell_type": "code",
      "source": [
        "data=data.drop('A1Cresult',axis=1)"
      ],
      "metadata": {
        "id": "8ZLbiL8VSZ_u"
      },
      "execution_count": null,
      "outputs": []
    },
    {
      "cell_type": "code",
      "source": [
        "data=data.drop('max_glu_serum',axis=1)"
      ],
      "metadata": {
        "id": "ynEx4CF7SZ9c"
      },
      "execution_count": null,
      "outputs": []
    },
    {
      "cell_type": "code",
      "source": [
        "data=data.drop('race',axis=1)"
      ],
      "metadata": {
        "id": "-XR2uyDhSZ6x"
      },
      "execution_count": null,
      "outputs": []
    },
    {
      "cell_type": "code",
      "source": [
        "data.shape"
      ],
      "metadata": {
        "colab": {
          "base_uri": "https://localhost:8080/"
        },
        "id": "KXnFBUcnSZ4A",
        "outputId": "b19bc8bd-7c87-427b-e55d-d67487caea0e"
      },
      "execution_count": null,
      "outputs": [
        {
          "output_type": "execute_result",
          "data": {
            "text/plain": [
              "(57735, 26)"
            ]
          },
          "metadata": {},
          "execution_count": 26
        }
      ]
    },
    {
      "cell_type": "code",
      "source": [
        "from sklearn.preprocessing import LabelEncoder"
      ],
      "metadata": {
        "id": "FSmPjwT3SZym"
      },
      "execution_count": null,
      "outputs": []
    },
    {
      "cell_type": "code",
      "source": [
        "le=LabelEncoder()"
      ],
      "metadata": {
        "id": "MIwb87-HSZv5"
      },
      "execution_count": null,
      "outputs": []
    },
    {
      "cell_type": "code",
      "source": [
        "data['gender']=le.fit_transform(data['gender'])"
      ],
      "metadata": {
        "id": "nWPmGscaSZtI"
      },
      "execution_count": null,
      "outputs": []
    },
    {
      "cell_type": "code",
      "source": [
        "data['age']=le.fit_transform(data['age'])"
      ],
      "metadata": {
        "id": "gTC1Aa41SZqp"
      },
      "execution_count": null,
      "outputs": []
    },
    {
      "cell_type": "code",
      "source": [
        "data['admission_type_id']=le.fit_transform(data['admission_type_id'])"
      ],
      "metadata": {
        "id": "o5QqH6ByVQPm"
      },
      "execution_count": null,
      "outputs": []
    },
    {
      "cell_type": "code",
      "source": [
        "data['discharge_disposition_id']=le.fit_transform(data['discharge_disposition_id'])"
      ],
      "metadata": {
        "id": "Sn6M4Y1hVQML"
      },
      "execution_count": null,
      "outputs": []
    },
    {
      "cell_type": "code",
      "source": [
        "data['admission_source_id']=le.fit_transform(data['admission_source_id'])"
      ],
      "metadata": {
        "id": "CUNv6T1LVQJb"
      },
      "execution_count": null,
      "outputs": []
    },
    {
      "cell_type": "code",
      "source": [
        "data['diag_1']=le.fit_transform(data['diag_1'])"
      ],
      "metadata": {
        "id": "aLYvdh0JVQGy"
      },
      "execution_count": null,
      "outputs": []
    },
    {
      "cell_type": "code",
      "source": [
        "data['diag_2']=le.fit_transform(data['diag_2'])"
      ],
      "metadata": {
        "id": "Khtq32tQV4Z6"
      },
      "execution_count": null,
      "outputs": []
    },
    {
      "cell_type": "code",
      "source": [
        "data['diag_3']=le.fit_transform(data['diag_3'])"
      ],
      "metadata": {
        "id": "IVuP4A-OV4Wi"
      },
      "execution_count": null,
      "outputs": []
    },
    {
      "cell_type": "code",
      "source": [
        "data['metformin']=le.fit_transform(data['metformin'])"
      ],
      "metadata": {
        "id": "6xRhP-8JV4Ub"
      },
      "execution_count": null,
      "outputs": []
    },
    {
      "cell_type": "code",
      "source": [
        "data['repaglinide']=le.fit_transform(data['repaglinide'])"
      ],
      "metadata": {
        "id": "yXdytUK0VQEL"
      },
      "execution_count": null,
      "outputs": []
    },
    {
      "cell_type": "code",
      "source": [
        "data['glipizide']=le.fit_transform(data['glipizide'])"
      ],
      "metadata": {
        "id": "Pw1A7Py3VQBv"
      },
      "execution_count": null,
      "outputs": []
    },
    {
      "cell_type": "code",
      "source": [
        "data['insulin']=le.fit_transform(data['insulin'])"
      ],
      "metadata": {
        "id": "pDtrHaUtVP_K"
      },
      "execution_count": null,
      "outputs": []
    },
    {
      "cell_type": "code",
      "source": [
        "data['change']=le.fit_transform(data['change'])"
      ],
      "metadata": {
        "id": "GtfznSlsVP8k"
      },
      "execution_count": null,
      "outputs": []
    },
    {
      "cell_type": "code",
      "source": [
        "data['diabetesMed']=le.fit_transform(data['diabetesMed'])"
      ],
      "metadata": {
        "id": "Jbjw-3atVP6v"
      },
      "execution_count": null,
      "outputs": []
    },
    {
      "cell_type": "code",
      "source": [
        "data['readmitted']=le.fit_transform(data['readmitted'])"
      ],
      "metadata": {
        "id": "E0F5duWYVP3q"
      },
      "execution_count": null,
      "outputs": []
    },
    {
      "cell_type": "code",
      "source": [
        "data.info()"
      ],
      "metadata": {
        "colab": {
          "base_uri": "https://localhost:8080/"
        },
        "id": "hUxUXDiuVP1Q",
        "outputId": "a74c8d48-81c8-4dab-f1e2-03a26a552f40"
      },
      "execution_count": null,
      "outputs": [
        {
          "output_type": "stream",
          "name": "stdout",
          "text": [
            "<class 'pandas.core.frame.DataFrame'>\n",
            "RangeIndex: 57735 entries, 0 to 57734\n",
            "Data columns (total 26 columns):\n",
            " #   Column                    Non-Null Count  Dtype  \n",
            "---  ------                    --------------  -----  \n",
            " 0   gender                    57735 non-null  int64  \n",
            " 1   age                       57735 non-null  int64  \n",
            " 2   admission_type_id         57735 non-null  int64  \n",
            " 3   discharge_disposition_id  57735 non-null  int64  \n",
            " 4   admission_source_id       57735 non-null  int64  \n",
            " 5   time_in_hospital          57735 non-null  float64\n",
            " 6   num_lab_procedures        57735 non-null  float64\n",
            " 7   num_medications           57735 non-null  float64\n",
            " 8   number_outpatient         57735 non-null  float64\n",
            " 9   number_emergency          57735 non-null  float64\n",
            " 10  number_inpatient          57735 non-null  float64\n",
            " 11  diag_1                    57735 non-null  int64  \n",
            " 12  diag_2                    57735 non-null  int64  \n",
            " 13  diag_3                    57735 non-null  int64  \n",
            " 14  number_diagnoses          57735 non-null  float64\n",
            " 15  metformin                 57735 non-null  int64  \n",
            " 16  repaglinide               57735 non-null  int64  \n",
            " 17  glipizide                 57735 non-null  int64  \n",
            " 18  insulin                   57735 non-null  int64  \n",
            " 19  change                    57735 non-null  int64  \n",
            " 20  diabetesMed               57735 non-null  int64  \n",
            " 21  readmitted                57735 non-null  int64  \n",
            " 22  age_derived               57735 non-null  float64\n",
            " 23  count_Steady              57735 non-null  float64\n",
            " 24  count_Down                57734 non-null  float64\n",
            " 25  count_Up                  57734 non-null  float64\n",
            "dtypes: float64(11), int64(15)\n",
            "memory usage: 11.5 MB\n"
          ]
        }
      ]
    },
    {
      "cell_type": "code",
      "source": [
        "import seaborn as sns\n",
        "import matplotlib as mp\n",
        "import matplotlib.pyplot as plt"
      ],
      "metadata": {
        "id": "w6X7XRkXVPzE"
      },
      "execution_count": null,
      "outputs": []
    },
    {
      "cell_type": "code",
      "source": [
        "fig=plt.figure(figsize=(8,8))\n",
        "sns.barplot(x=data['readmitted'], y=data['diabetesMed']).set_title(\"diabetesMed vs readmitted\")"
      ],
      "metadata": {
        "colab": {
          "base_uri": "https://localhost:8080/",
          "height": 714
        },
        "id": "oL1VPj-BkZ9Q",
        "outputId": "523723e0-316c-4dd3-d072-61aad4c87d5c"
      },
      "execution_count": null,
      "outputs": [
        {
          "output_type": "execute_result",
          "data": {
            "text/plain": [
              "Text(0.5, 1.0, 'diabetesMed vs readmitted')"
            ]
          },
          "metadata": {},
          "execution_count": 46
        },
        {
          "output_type": "display_data",
          "data": {
            "text/plain": [
              "<Figure size 800x800 with 1 Axes>"
            ],
            "image/png": "[encoded data removed]"
          },
          "metadata": {}
        }
      ]
    },
    {
      "cell_type": "code",
      "source": [
        "fig=plt.figure(figsize=(15,10))\n",
        "sns.countplot(y=data['age'], hue=data['readmitted']).set_title(\"age of patients vs readmitted\")"
      ],
      "metadata": {
        "colab": {
          "base_uri": "https://localhost:8080/",
          "height": 504
        },
        "id": "3nYuwKEEkZ5h",
        "outputId": "ee30ba37-69a5-47df-be25-adb507d7f618"
      },
      "execution_count": null,
      "outputs": [
        {
          "output_type": "execute_result",
          "data": {
            "text/plain": [
              "Text(0.5, 1.0, 'age of patients vs readmitted')"
            ]
          },
          "metadata": {},
          "execution_count": 47
        },
        {
          "output_type": "display_data",
          "data": {
            "text/plain": [
              "<Figure size 1500x1000 with 1 Axes>"
            ],
            "image/png": "[encoded data removed]"
          },
          "metadata": {}
        }
      ]
    },
    {
      "cell_type": "code",
      "source": [
        "fig=plt.figure(figsize=(15,10))\n",
        "sns.countplot(x=data['change'], hue=data['readmitted']).set_title(\"change vs readmitted\")"
      ],
      "metadata": {
        "colab": {
          "base_uri": "https://localhost:8080/",
          "height": 491
        },
        "id": "jcpf7_mVkZ3W",
        "outputId": "065310cd-3248-4f72-cf77-76bf9618fd9a"
      },
      "execution_count": null,
      "outputs": [
        {
          "output_type": "execute_result",
          "data": {
            "text/plain": [
              "Text(0.5, 1.0, 'change vs readmitted')"
            ]
          },
          "metadata": {},
          "execution_count": 48
        },
        {
          "output_type": "display_data",
          "data": {
            "text/plain": [
              "<Figure size 1500x1000 with 1 Axes>"
            ],
            "image/png": "[encoded data removed]"
          },
          "metadata": {}
        }
      ]
    },
    {
      "cell_type": "code",
      "source": [
        "fig=plt.figure(figsize=(15,10))\n",
        "sns.countplot(y=data['diabetesMed'], hue=data['readmitted']).set_title(\"diabetesMed vs readmitted\")"
      ],
      "metadata": {
        "colab": {
          "base_uri": "https://localhost:8080/",
          "height": 504
        },
        "id": "rCLy9C7qkZ1G",
        "outputId": "67089247-fb6d-4a51-cdd0-62bce8f54e5e"
      },
      "execution_count": null,
      "outputs": [
        {
          "output_type": "execute_result",
          "data": {
            "text/plain": [
              "Text(0.5, 1.0, 'diabetesMed vs readmitted')"
            ]
          },
          "metadata": {},
          "execution_count": 49
        },
        {
          "output_type": "display_data",
          "data": {
            "text/plain": [
              "<Figure size 1500x1000 with 1 Axes>"
            ],
            "image/png": "[encoded data removed]"
          },
          "metadata": {}
        }
      ]
    },
    {
      "cell_type": "code",
      "source": [
        "data['readmitted'].value_counts().plot(kind='bar')"
      ],
      "metadata": {
        "colab": {
          "base_uri": "https://localhost:8080/",
          "height": 462
        },
        "id": "Dr68M10fVPwa",
        "outputId": "fe9b6fe9-1035-4fce-a810-551e29f9209d"
      },
      "execution_count": null,
      "outputs": [
        {
          "output_type": "execute_result",
          "data": {
            "text/plain": [
              "<Axes: xlabel='readmitted'>"
            ]
          },
          "metadata": {},
          "execution_count": 50
        },
        {
          "output_type": "display_data",
          "data": {
            "text/plain": [
              "<Figure size 640x480 with 1 Axes>"
            ],
            "image/png": "[encoded data removed]"
          },
          "metadata": {}
        }
      ]
    },
    {
      "source": [
        "!pip install imbalanced-learn\n",
        "\n",
        "import pandas as pd\n",
        "from imblearn.over_sampling import SMOTE\n",
        "\n",
        "# Assuming 'data' is your DataFrame and 'readmitted' is the target column\n",
        "X = data.drop('readmitted', axis=1)  # Features\n",
        "y = data['readmitted']  # Target variable\n",
        "\n",
        "# Check the distribution of your target variable\n",
        "print(y.value_counts())\n",
        "\n",
        "# Handle cases where a class has only one sample\n",
        "# Here, we simply avoid oversampling if a class has less than 2 samples\n",
        "k_neighbors = min(3, y.value_counts().min())\n",
        "if k_neighbors > 1:\n",
        "    smote = SMOTE(k_neighbors=k_neighbors)\n",
        "\n",
        "    # Resample the dataset\n",
        "    X_resampled, y_resampled = smote.fit_resample(X, y)\n",
        "\n",
        "    # Create a new balanced DataFrame\n",
        "    data_resampled = pd.concat([pd.DataFrame(X_resampled), pd.DataFrame(y_resampled, columns=['readmitted'])], axis=1)\n",
        "\n",
        "    # Now 'data_resampled' contains an oversampled version of your data\n",
        "    print(data_resampled['readmitted'].value_counts())\n",
        "else:\n",
        "    print(\"Warning: A class has less than 2 samples. SMOTE cannot be applied.\")"
      ],
      "cell_type": "code",
      "metadata": {
        "colab": {
          "base_uri": "https://localhost:8080/"
        },
        "id": "yIULH_LpdN6r",
        "outputId": "f36bf510-f6ab-4826-cfbc-17c8e076a07b"
      },
      "execution_count": null,
      "outputs": [
        {
          "output_type": "stream",
          "name": "stdout",
          "text": [
            "Requirement already satisfied: imbalanced-learn in /usr/local/lib/python3.10/dist-packages (0.10.1)\n",
            "Requirement already satisfied: numpy>=1.17.3 in /usr/local/lib/python3.10/dist-packages (from imbalanced-learn) (1.25.2)\n",
            "Requirement already satisfied: scipy>=1.3.2 in /usr/local/lib/python3.10/dist-packages (from imbalanced-learn) (1.11.4)\n",
            "Requirement already satisfied: scikit-learn>=1.0.2 in /usr/local/lib/python3.10/dist-packages (from imbalanced-learn) (1.2.2)\n",
            "Requirement already satisfied: joblib>=1.1.1 in /usr/local/lib/python3.10/dist-packages (from imbalanced-learn) (1.4.2)\n",
            "Requirement already satisfied: threadpoolctl>=2.0.0 in /usr/local/lib/python3.10/dist-packages (from imbalanced-learn) (3.5.0)\n",
            "readmitted\n",
            "1    51135\n",
            "0     6600\n",
            "Name: count, dtype: int64\n",
            "readmitted\n",
            "1    51135\n",
            "0    51135\n",
            "Name: count, dtype: int64\n"
          ]
        }
      ]
    },
    {
      "cell_type": "code",
      "source": [
        "X = data.drop('diabetesMed', axis=1)  # Features\n",
        "y = data['diabetesMed']  # Target variable\n",
        "\n",
        "# Check the distribution of your target variable\n",
        "print(y.value_counts())\n",
        "\n",
        "# Handle cases where a class has only one sample\n",
        "# Here, we simply avoid oversampling if a class has less than 2 samples\n",
        "k_neighbors = min(3, y.value_counts().min())\n",
        "if k_neighbors > 1:\n",
        "    smote = SMOTE(k_neighbors=k_neighbors)\n",
        "\n",
        "    # Resample the dataset\n",
        "    X_resampled, y_resampled = smote.fit_resample(X, y)\n",
        "\n",
        "    # Create a new balanced DataFrame\n",
        "    data_resampled = pd.concat([pd.DataFrame(X_resampled), pd.DataFrame(y_resampled, columns=['diabetesMed'])], axis=1)\n",
        "\n",
        "    # Now 'data_resampled' contains an oversampled version of your data\n",
        "    print(data_resampled['diabetesMed'].value_counts())\n",
        "else:\n",
        "    print(\"Warning: A class has less than 2 samples. SMOTE cannot be applied.\")"
      ],
      "metadata": {
        "colab": {
          "base_uri": "https://localhost:8080/"
        },
        "id": "fhJQboydkYA6",
        "outputId": "9b857124-5c7a-425a-9fc5-e0fb3666f07a"
      },
      "execution_count": null,
      "outputs": [
        {
          "output_type": "stream",
          "name": "stdout",
          "text": [
            "diabetesMed\n",
            "1    43209\n",
            "0    14526\n",
            "Name: count, dtype: int64\n",
            "diabetesMed\n",
            "0    43209\n",
            "1    43209\n",
            "Name: count, dtype: int64\n"
          ]
        }
      ]
    },
    {
      "cell_type": "code",
      "source": [
        "data['readmitted'].value_counts().plot(kind='bar')"
      ],
      "metadata": {
        "colab": {
          "base_uri": "https://localhost:8080/",
          "height": 462
        },
        "id": "G-TkDid4Ylqe",
        "outputId": "186350ae-54b4-42e6-d0d7-d62b13edda4c"
      },
      "execution_count": null,
      "outputs": [
        {
          "output_type": "execute_result",
          "data": {
            "text/plain": [
              "<Axes: xlabel='readmitted'>"
            ]
          },
          "metadata": {},
          "execution_count": 57
        },
        {
          "output_type": "display_data",
          "data": {
            "text/plain": [
              "<Figure size 640x480 with 1 Axes>"
            ],
            "image/png": "[encoded data removed]"
          },
          "metadata": {}
        }
      ]
    },
    {
      "cell_type": "code",
      "source": [
        "data.isnull().sum()"
      ],
      "metadata": {
        "colab": {
          "base_uri": "https://localhost:8080/"
        },
        "id": "SNn6tTZKYUGN",
        "outputId": "529454d4-6f2d-46af-d1ab-9518c7bb7878"
      },
      "execution_count": null,
      "outputs": [
        {
          "output_type": "execute_result",
          "data": {
            "text/plain": [
              "gender                      0\n",
              "age                         0\n",
              "admission_type_id           0\n",
              "discharge_disposition_id    0\n",
              "admission_source_id         0\n",
              "time_in_hospital            0\n",
              "num_lab_procedures          0\n",
              "num_medications             0\n",
              "number_outpatient           0\n",
              "number_emergency            0\n",
              "number_inpatient            0\n",
              "diag_1                      0\n",
              "diag_2                      0\n",
              "diag_3                      0\n",
              "number_diagnoses            0\n",
              "metformin                   0\n",
              "repaglinide                 0\n",
              "glipizide                   0\n",
              "insulin                     0\n",
              "change                      0\n",
              "diabetesMed                 0\n",
              "readmitted                  0\n",
              "age_derived                 0\n",
              "count_Steady                0\n",
              "count_Down                  0\n",
              "count_Up                    0\n",
              "dtype: int64"
            ]
          },
          "metadata": {},
          "execution_count": 58
        }
      ]
    },
    {
      "cell_type": "code",
      "source": [
        "data['num_medications'].fillna(data['num_medications'].mean(),inplace=True)"
      ],
      "metadata": {
        "id": "9u9g6SWUYUCr"
      },
      "execution_count": null,
      "outputs": []
    },
    {
      "cell_type": "code",
      "source": [
        "data['number_outpatient'].fillna(data['number_outpatient'].mean(),inplace=True)"
      ],
      "metadata": {
        "id": "5aJJIBu8YT_8"
      },
      "execution_count": null,
      "outputs": []
    },
    {
      "cell_type": "code",
      "source": [
        "data['number_emergency'].fillna(data['number_emergency'].mean(),inplace=True)"
      ],
      "metadata": {
        "id": "zGy093uAYT9W"
      },
      "execution_count": null,
      "outputs": []
    },
    {
      "cell_type": "code",
      "source": [
        "data['number_diagnoses'].fillna(data['number_diagnoses'].mean(),inplace=True)"
      ],
      "metadata": {
        "id": "5w076iUqYT6N"
      },
      "execution_count": null,
      "outputs": []
    },
    {
      "cell_type": "code",
      "source": [
        "data['age_derived'].fillna(data['age_derived'].mean(),inplace=True)"
      ],
      "metadata": {
        "id": "ks3FbTHfYT3B"
      },
      "execution_count": null,
      "outputs": []
    },
    {
      "cell_type": "code",
      "source": [
        "data['count_Steady'].fillna(data['count_Steady'].mean(),inplace=True)"
      ],
      "metadata": {
        "id": "xG-3RWqIZOCP"
      },
      "execution_count": null,
      "outputs": []
    },
    {
      "cell_type": "code",
      "source": [
        "data['count_Down'].fillna(data['count_Down'].mean(),inplace=True)"
      ],
      "metadata": {
        "id": "8aCFzEJ7Zgah"
      },
      "execution_count": null,
      "outputs": []
    },
    {
      "cell_type": "code",
      "source": [
        "data['count_Up'].fillna(data['count_Up'].mean(),inplace=True)"
      ],
      "metadata": {
        "id": "AAMHk22eZevr"
      },
      "execution_count": null,
      "outputs": []
    },
    {
      "cell_type": "code",
      "source": [
        "data['number_inpatient'].fillna(data['number_inpatient'].mean(),inplace=True)"
      ],
      "metadata": {
        "id": "323g1KWhaAmo"
      },
      "execution_count": null,
      "outputs": []
    },
    {
      "cell_type": "code",
      "source": [
        "data['readmitted'].value_counts()"
      ],
      "metadata": {
        "colab": {
          "base_uri": "https://localhost:8080/"
        },
        "id": "8eeiqpU8aVun",
        "outputId": "2ea5db2c-a74f-4654-9e44-3b6f8d09a113"
      },
      "execution_count": null,
      "outputs": [
        {
          "output_type": "execute_result",
          "data": {
            "text/plain": [
              "readmitted\n",
              "1    51135\n",
              "0     6600\n",
              "Name: count, dtype: int64"
            ]
          },
          "metadata": {},
          "execution_count": 66
        }
      ]
    },
    {
      "cell_type": "code",
      "source": [
        "data['diag_1'].value_counts()"
      ],
      "metadata": {
        "colab": {
          "base_uri": "https://localhost:8080/"
        },
        "id": "ojRkhB7mieVr",
        "outputId": "067b92a9-1526-4360-a090-06ba0267d820"
      },
      "execution_count": null,
      "outputs": [
        {
          "output_type": "execute_result",
          "data": {
            "text/plain": [
              "diag_1\n",
              "0    18194\n",
              "7    15195\n",
              "4    11645\n",
              "2     5293\n",
              "5     2767\n",
              "3     2558\n",
              "6     1958\n",
              "1      112\n",
              "8       13\n",
              "Name: count, dtype: int64"
            ]
          },
          "metadata": {},
          "execution_count": 67
        }
      ]
    },
    {
      "cell_type": "code",
      "source": [
        "data.isnull().sum()"
      ],
      "metadata": {
        "colab": {
          "base_uri": "https://localhost:8080/"
        },
        "id": "zxhI3Z8SZ4rY",
        "outputId": "2200de29-b940-4eac-ff6d-6cc1db626274"
      },
      "execution_count": null,
      "outputs": [
        {
          "output_type": "execute_result",
          "data": {
            "text/plain": [
              "gender                      0\n",
              "age                         0\n",
              "admission_type_id           0\n",
              "discharge_disposition_id    0\n",
              "admission_source_id         0\n",
              "time_in_hospital            0\n",
              "num_lab_procedures          0\n",
              "num_medications             0\n",
              "number_outpatient           0\n",
              "number_emergency            0\n",
              "number_inpatient            0\n",
              "diag_1                      0\n",
              "diag_2                      0\n",
              "diag_3                      0\n",
              "number_diagnoses            0\n",
              "metformin                   0\n",
              "repaglinide                 0\n",
              "glipizide                   0\n",
              "insulin                     0\n",
              "change                      0\n",
              "diabetesMed                 0\n",
              "readmitted                  0\n",
              "age_derived                 0\n",
              "count_Steady                0\n",
              "count_Down                  0\n",
              "count_Up                    0\n",
              "dtype: int64"
            ]
          },
          "metadata": {},
          "execution_count": 68
        }
      ]
    },
    {
      "cell_type": "code",
      "source": [
        "x=data.drop(columns=['readmitted'])\n",
        "y=data['readmitted']"
      ],
      "metadata": {
        "id": "tPsPYIF2VPuO"
      },
      "execution_count": null,
      "outputs": []
    },
    {
      "cell_type": "code",
      "source": [
        "x"
      ],
      "metadata": {
        "colab": {
          "base_uri": "https://localhost:8080/",
          "height": 443
        },
        "id": "0zOXfEPWVPr3",
        "outputId": "167700d4-95c4-4d04-abf4-5b517d68f28e"
      },
      "execution_count": null,
      "outputs": [
        {
          "output_type": "execute_result",
          "data": {
            "text/plain": [
              "       gender  age  admission_type_id  discharge_disposition_id  \\\n",
              "0           0    0                  2                         4   \n",
              "1           0    0                  1                         0   \n",
              "2           0    0                  1                         0   \n",
              "3           1    1                  1                         0   \n",
              "4           1    2                  1                         0   \n",
              "...       ...  ...                ...                       ...   \n",
              "57730       0    5                  1                         1   \n",
              "57731       0    0                  3                         0   \n",
              "57732       1    4                  0                         0   \n",
              "57733       1    3                  1                         1   \n",
              "57734       0    5                  1                         0   \n",
              "\n",
              "       admission_source_id  time_in_hospital  num_lab_procedures  \\\n",
              "0                        2         -1.632460           -0.108475   \n",
              "1                        0         -0.271144            0.808522   \n",
              "2                        0         -0.825587           -1.629615   \n",
              "3                        0         -0.825587            0.044197   \n",
              "4                        0         -1.632460            0.400694   \n",
              "...                    ...               ...                 ...   \n",
              "57730                    0          0.148889           -0.159349   \n",
              "57731                    0          0.485715            0.859528   \n",
              "57732                    2          0.766108            0.349745   \n",
              "57733                    0          0.485715            2.136333   \n",
              "57734                    0          0.148889            0.553583   \n",
              "\n",
              "       num_medications  number_outpatient  number_emergency  ...  metformin  \\\n",
              "0            -3.304858          -0.443669         -0.354883  ...          1   \n",
              "1             0.408817          -0.443669         -0.354883  ...          1   \n",
              "2            -0.237590           2.278833         -0.354883  ...          1   \n",
              "3             0.167145          -0.443669         -0.354883  ...          1   \n",
              "4            -1.082723          -0.443669         -0.354883  ...          1   \n",
              "...                ...                ...               ...  ...        ...   \n",
              "57730         0.167145          -0.443669         -0.354883  ...          1   \n",
              "57731        -0.890313          -0.443669         -0.354883  ...          1   \n",
              "57732         0.632617          -0.443669         -0.354883  ...          2   \n",
              "57733         1.563876          -0.443669         -0.354883  ...          1   \n",
              "57734        -0.544050          -0.443669         -0.354883  ...          1   \n",
              "\n",
              "       repaglinide  glipizide  insulin  change  diabetesMed  age_derived  \\\n",
              "0                1          1        1       1            0    -2.390913   \n",
              "1                1          1        3       0            1    -2.390913   \n",
              "2                1          2        1       1            1    -2.390913   \n",
              "3                1          1        3       0            1    -1.716517   \n",
              "4                1          2        2       0            1    -1.267255   \n",
              "...            ...        ...      ...     ...          ...          ...   \n",
              "57730            1          1        2       0            1     0.452563   \n",
              "57731            1          1        3       0            1    -2.390913   \n",
              "57732            1          1        0       0            1    -0.178500   \n",
              "57733            1          1        2       1            1    -0.753001   \n",
              "57734            1          1        2       1            1     0.452563   \n",
              "\n",
              "       count_Steady  count_Down  count_Up  \n",
              "0         -0.964053   -0.386999 -0.382050  \n",
              "1         -0.964053   -0.386999  2.617432  \n",
              "2          0.835716   -0.386999 -0.382050  \n",
              "3         -0.964053   -0.386999  2.617432  \n",
              "4          1.525004   -0.386999 -0.382050  \n",
              "...             ...         ...       ...  \n",
              "57730      0.835716   -0.386999 -0.382050  \n",
              "57731     -0.964053   -0.386999  2.617432  \n",
              "57732      0.835716    2.583969 -0.382050  \n",
              "57733      0.835716   -0.386999 -0.382050  \n",
              "57734      0.000000   -0.069646 -0.085496  \n",
              "\n",
              "[57735 rows x 25 columns]"
            ],
            "text/html": [
              "\n",
              "  <div id=\"df-6e510584-6e60-44ee-821a-d2986210e341\" class=\"colab-df-container\">\n",
              "    <div>\n",
              "<style scoped>\n",
              "    .dataframe tbody tr th:only-of-type {\n",
              "        vertical-align: middle;\n",
              "    }\n",
              "\n",
              "    .dataframe tbody tr th {\n",
              "        vertical-align: top;\n",
              "    }\n",
              "\n",
              "    .dataframe thead th {\n",
              "        text-align: right;\n",
              "    }\n",
              "</style>\n",
              "<table border=\"1\" class=\"dataframe\">\n",
              "  <thead>\n",
              "    <tr style=\"text-align: right;\">\n",
              "      <th></th>\n",
              "      <th>gender</th>\n",
              "      <th>age</th>\n",
              "      <th>admission_type_id</th>\n",
              "      <th>discharge_disposition_id</th>\n",
              "      <th>admission_source_id</th>\n",
              "      <th>time_in_hospital</th>\n",
              "      <th>num_lab_procedures</th>\n",
              "      <th>num_medications</th>\n",
              "      <th>number_outpatient</th>\n",
              "      <th>number_emergency</th>\n",
              "      <th>...</th>\n",
              "      <th>metformin</th>\n",
              "      <th>repaglinide</th>\n",
              "      <th>glipizide</th>\n",
              "      <th>insulin</th>\n",
              "      <th>change</th>\n",
              "      <th>diabetesMed</th>\n",
              "      <th>age_derived</th>\n",
              "      <th>count_Steady</th>\n",
              "      <th>count_Down</th>\n",
              "      <th>count_Up</th>\n",
              "    </tr>\n",
              "  </thead>\n",
              "  <tbody>\n",
              "    <tr>\n",
              "      <th>0</th>\n",
              "      <td>0</td>\n",
              "      <td>0</td>\n",
              "      <td>2</td>\n",
              "      <td>4</td>\n",
              "      <td>2</td>\n",
              "      <td>-1.632460</td>\n",
              "      <td>-0.108475</td>\n",
              "      <td>-3.304858</td>\n",
              "      <td>-0.443669</td>\n",
              "      <td>-0.354883</td>\n",
              "      <td>...</td>\n",
              "      <td>1</td>\n",
              "      <td>1</td>\n",
              "      <td>1</td>\n",
              "      <td>1</td>\n",
              "      <td>1</td>\n",
              "      <td>0</td>\n",
              "      <td>-2.390913</td>\n",
              "      <td>-0.964053</td>\n",
              "      <td>-0.386999</td>\n",
              "      <td>-0.382050</td>\n",
              "    </tr>\n",
              "    <tr>\n",
              "      <th>1</th>\n",
              "      <td>0</td>\n",
              "      <td>0</td>\n",
              "      <td>1</td>\n",
              "      <td>0</td>\n",
              "      <td>0</td>\n",
              "      <td>-0.271144</td>\n",
              "      <td>0.808522</td>\n",
              "      <td>0.408817</td>\n",
              "      <td>-0.443669</td>\n",
              "      <td>-0.354883</td>\n",
              "      <td>...</td>\n",
              "      <td>1</td>\n",
              "      <td>1</td>\n",
              "      <td>1</td>\n",
              "      <td>3</td>\n",
              "      <td>0</td>\n",
              "      <td>1</td>\n",
              "      <td>-2.390913</td>\n",
              "      <td>-0.964053</td>\n",
              "      <td>-0.386999</td>\n",
              "      <td>2.617432</td>\n",
              "    </tr>\n",
              "    <tr>\n",
              "      <th>2</th>\n",
              "      <td>0</td>\n",
              "      <td>0</td>\n",
              "      <td>1</td>\n",
              "      <td>0</td>\n",
              "      <td>0</td>\n",
              "      <td>-0.825587</td>\n",
              "      <td>-1.629615</td>\n",
              "      <td>-0.237590</td>\n",
              "      <td>2.278833</td>\n",
              "      <td>-0.354883</td>\n",
              "      <td>...</td>\n",
              "      <td>1</td>\n",
              "      <td>1</td>\n",
              "      <td>2</td>\n",
              "      <td>1</td>\n",
              "      <td>1</td>\n",
              "      <td>1</td>\n",
              "      <td>-2.390913</td>\n",
              "      <td>0.835716</td>\n",
              "      <td>-0.386999</td>\n",
              "      <td>-0.382050</td>\n",
              "    </tr>\n",
              "    <tr>\n",
              "      <th>3</th>\n",
              "      <td>1</td>\n",
              "      <td>1</td>\n",
              "      <td>1</td>\n",
              "      <td>0</td>\n",
              "      <td>0</td>\n",
              "      <td>-0.825587</td>\n",
              "      <td>0.044197</td>\n",
              "      <td>0.167145</td>\n",
              "      <td>-0.443669</td>\n",
              "      <td>-0.354883</td>\n",
              "      <td>...</td>\n",
              "      <td>1</td>\n",
              "      <td>1</td>\n",
              "      <td>1</td>\n",
              "      <td>3</td>\n",
              "      <td>0</td>\n",
              "      <td>1</td>\n",
              "      <td>-1.716517</td>\n",
              "      <td>-0.964053</td>\n",
              "      <td>-0.386999</td>\n",
              "      <td>2.617432</td>\n",
              "    </tr>\n",
              "    <tr>\n",
              "      <th>4</th>\n",
              "      <td>1</td>\n",
              "      <td>2</td>\n",
              "      <td>1</td>\n",
              "      <td>0</td>\n",
              "      <td>0</td>\n",
              "      <td>-1.632460</td>\n",
              "      <td>0.400694</td>\n",
              "      <td>-1.082723</td>\n",
              "      <td>-0.443669</td>\n",
              "      <td>-0.354883</td>\n",
              "      <td>...</td>\n",
              "      <td>1</td>\n",
              "      <td>1</td>\n",
              "      <td>2</td>\n",
              "      <td>2</td>\n",
              "      <td>0</td>\n",
              "      <td>1</td>\n",
              "      <td>-1.267255</td>\n",
              "      <td>1.525004</td>\n",
              "      <td>-0.386999</td>\n",
              "      <td>-0.382050</td>\n",
              "    </tr>\n",
              "    <tr>\n",
              "      <th>...</th>\n",
              "      <td>...</td>\n",
              "      <td>...</td>\n",
              "      <td>...</td>\n",
              "      <td>...</td>\n",
              "      <td>...</td>\n",
              "      <td>...</td>\n",
              "      <td>...</td>\n",
              "      <td>...</td>\n",
              "      <td>...</td>\n",
              "      <td>...</td>\n",
              "      <td>...</td>\n",
              "      <td>...</td>\n",
              "      <td>...</td>\n",
              "      <td>...</td>\n",
              "      <td>...</td>\n",
              "      <td>...</td>\n",
              "      <td>...</td>\n",
              "      <td>...</td>\n",
              "      <td>...</td>\n",
              "      <td>...</td>\n",
              "      <td>...</td>\n",
              "    </tr>\n",
              "    <tr>\n",
              "      <th>57730</th>\n",
              "      <td>0</td>\n",
              "      <td>5</td>\n",
              "      <td>1</td>\n",
              "      <td>1</td>\n",
              "      <td>0</td>\n",
              "      <td>0.148889</td>\n",
              "      <td>-0.159349</td>\n",
              "      <td>0.167145</td>\n",
              "      <td>-0.443669</td>\n",
              "      <td>-0.354883</td>\n",
              "      <td>...</td>\n",
              "      <td>1</td>\n",
              "      <td>1</td>\n",
              "      <td>1</td>\n",
              "      <td>2</td>\n",
              "      <td>0</td>\n",
              "      <td>1</td>\n",
              "      <td>0.452563</td>\n",
              "      <td>0.835716</td>\n",
              "      <td>-0.386999</td>\n",
              "      <td>-0.382050</td>\n",
              "    </tr>\n",
              "    <tr>\n",
              "      <th>57731</th>\n",
              "      <td>0</td>\n",
              "      <td>0</td>\n",
              "      <td>3</td>\n",
              "      <td>0</td>\n",
              "      <td>0</td>\n",
              "      <td>0.485715</td>\n",
              "      <td>0.859528</td>\n",
              "      <td>-0.890313</td>\n",
              "      <td>-0.443669</td>\n",
              "      <td>-0.354883</td>\n",
              "      <td>...</td>\n",
              "      <td>1</td>\n",
              "      <td>1</td>\n",
              "      <td>1</td>\n",
              "      <td>3</td>\n",
              "      <td>0</td>\n",
              "      <td>1</td>\n",
              "      <td>-2.390913</td>\n",
              "      <td>-0.964053</td>\n",
              "      <td>-0.386999</td>\n",
              "      <td>2.617432</td>\n",
              "    </tr>\n",
              "    <tr>\n",
              "      <th>57732</th>\n",
              "      <td>1</td>\n",
              "      <td>4</td>\n",
              "      <td>0</td>\n",
              "      <td>0</td>\n",
              "      <td>2</td>\n",
              "      <td>0.766108</td>\n",
              "      <td>0.349745</td>\n",
              "      <td>0.632617</td>\n",
              "      <td>-0.443669</td>\n",
              "      <td>-0.354883</td>\n",
              "      <td>...</td>\n",
              "      <td>2</td>\n",
              "      <td>1</td>\n",
              "      <td>1</td>\n",
              "      <td>0</td>\n",
              "      <td>0</td>\n",
              "      <td>1</td>\n",
              "      <td>-0.178500</td>\n",
              "      <td>0.835716</td>\n",
              "      <td>2.583969</td>\n",
              "      <td>-0.382050</td>\n",
              "    </tr>\n",
              "    <tr>\n",
              "      <th>57733</th>\n",
              "      <td>1</td>\n",
              "      <td>3</td>\n",
              "      <td>1</td>\n",
              "      <td>1</td>\n",
              "      <td>0</td>\n",
              "      <td>0.485715</td>\n",
              "      <td>2.136333</td>\n",
              "      <td>1.563876</td>\n",
              "      <td>-0.443669</td>\n",
              "      <td>-0.354883</td>\n",
              "      <td>...</td>\n",
              "      <td>1</td>\n",
              "      <td>1</td>\n",
              "      <td>1</td>\n",
              "      <td>2</td>\n",
              "      <td>1</td>\n",
              "      <td>1</td>\n",
              "      <td>-0.753001</td>\n",
              "      <td>0.835716</td>\n",
              "      <td>-0.386999</td>\n",
              "      <td>-0.382050</td>\n",
              "    </tr>\n",
              "    <tr>\n",
              "      <th>57734</th>\n",
              "      <td>0</td>\n",
              "      <td>5</td>\n",
              "      <td>1</td>\n",
              "      <td>0</td>\n",
              "      <td>0</td>\n",
              "      <td>0.148889</td>\n",
              "      <td>0.553583</td>\n",
              "      <td>-0.544050</td>\n",
              "      <td>-0.443669</td>\n",
              "      <td>-0.354883</td>\n",
              "      <td>...</td>\n",
              "      <td>1</td>\n",
              "      <td>1</td>\n",
              "      <td>1</td>\n",
              "      <td>2</td>\n",
              "      <td>1</td>\n",
              "      <td>1</td>\n",
              "      <td>0.452563</td>\n",
              "      <td>0.000000</td>\n",
              "      <td>-0.069646</td>\n",
              "      <td>-0.085496</td>\n",
              "    </tr>\n",
              "  </tbody>\n",
              "</table>\n",
              "<p>57735 rows × 25 columns</p>\n",
              "</div>\n",
              "    <div class=\"colab-df-buttons\">\n",
              "\n",
              "  <div class=\"colab-df-container\">\n",
              "    <button class=\"colab-df-convert\" onclick=\"convertToInteractive('df-6e510584-6e60-44ee-821a-d2986210e341')\"\n",
              "            title=\"Convert this dataframe to an interactive table.\"\n",
              "            style=\"display:none;\">\n",
              "\n",
              "  <svg xmlns=\"http://www.w3.org/2000/svg\" height=\"24px\" viewBox=\"0 -960 960 960\">\n",
              "    <path d=\"M120-120v-720h720v720H120Zm60-500h600v-160H180v160Zm220 220h160v-160H400v160Zm0 220h160v-160H400v160ZM180-400h160v-160H180v160Zm440 0h160v-160H620v160ZM180-180h160v-160H180v160Zm440 0h160v-160H620v160Z\"/>\n",
              "  </svg>\n",
              "    </button>\n",
              "\n",
              "  <style>\n",
              "    .colab-df-container {\n",
              "      display:flex;\n",
              "      gap: 12px;\n",
              "    }\n",
              "\n",
              "    .colab-df-convert {\n",
              "      background-color: #E8F0FE;\n",
              "      border: none;\n",
              "      border-radius: 50%;\n",
              "      cursor: pointer;\n",
              "      display: none;\n",
              "      fill: #1967D2;\n",
              "      height: 32px;\n",
              "      padding: 0 0 0 0;\n",
              "      width: 32px;\n",
              "    }\n",
              "\n",
              "    .colab-df-convert:hover {\n",
              "      background-color: #E2EBFA;\n",
              "      box-shadow: 0px 1px 2px rgba(60, 64, 67, 0.3), 0px 1px 3px 1px rgba(60, 64, 67, 0.15);\n",
              "      fill: #174EA6;\n",
              "    }\n",
              "\n",
              "    .colab-df-buttons div {\n",
              "      margin-bottom: 4px;\n",
              "    }\n",
              "\n",
              "    [theme=dark] .colab-df-convert {\n",
              "      background-color: #3B4455;\n",
              "      fill: #D2E3FC;\n",
              "    }\n",
              "\n",
              "    [theme=dark] .colab-df-convert:hover {\n",
              "      background-color: #434B5C;\n",
              "      box-shadow: 0px 1px 3px 1px rgba(0, 0, 0, 0.15);\n",
              "      filter: drop-shadow(0px 1px 2px rgba(0, 0, 0, 0.3));\n",
              "      fill: #FFFFFF;\n",
              "    }\n",
              "  </style>\n",
              "\n",
              "    <script>\n",
              "      const buttonEl =\n",
              "        document.querySelector('#df-6e510584-6e60-44ee-821a-d2986210e341 button.colab-df-convert');\n",
              "      buttonEl.style.display =\n",
              "        google.colab.kernel.accessAllowed ? 'block' : 'none';\n",
              "\n",
              "      async function convertToInteractive(key) {\n",
              "        const element = document.querySelector('#df-6e510584-6e60-44ee-821a-d2986210e341');\n",
              "        const dataTable =\n",
              "          await google.colab.kernel.invokeFunction('convertToInteractive',\n",
              "                                                    [key], {});\n",
              "        if (!dataTable) return;\n",
              "\n",
              "        const docLinkHtml = 'Like what you see? Visit the ' +\n",
              "          '<a target=\"_blank\" href=https://colab.research.google.com/notebooks/data_table.ipynb>data table notebook</a>'\n",
              "          + ' to learn more about interactive tables.';\n",
              "        element.innerHTML = '';\n",
              "        dataTable['output_type'] = 'display_data';\n",
              "        await google.colab.output.renderOutput(dataTable, element);\n",
              "        const docLink = document.createElement('div');\n",
              "        docLink.innerHTML = docLinkHtml;\n",
              "        element.appendChild(docLink);\n",
              "      }\n",
              "    </script>\n",
              "  </div>\n",
              "\n",
              "\n",
              "<div id=\"df-6178321f-bf76-4952-a41f-1d39edca957c\">\n",
              "  <button class=\"colab-df-quickchart\" onclick=\"quickchart('df-6178321f-bf76-4952-a41f-1d39edca957c')\"\n",
              "            title=\"Suggest charts\"\n",
              "            style=\"display:none;\">\n",
              "\n",
              "<svg xmlns=\"http://www.w3.org/2000/svg\" height=\"24px\"viewBox=\"0 0 24 24\"\n",
              "     width=\"24px\">\n",
              "    <g>\n",
              "        <path d=\"M19 3H5c-1.1 0-2 .9-2 2v14c0 1.1.9 2 2 2h14c1.1 0 2-.9 2-2V5c0-1.1-.9-2-2-2zM9 17H7v-7h2v7zm4 0h-2V7h2v10zm4 0h-2v-4h2v4z\"/>\n",
              "    </g>\n",
              "</svg>\n",
              "  </button>\n",
              "\n",
              "<style>\n",
              "  .colab-df-quickchart {\n",
              "      --bg-color: #E8F0FE;\n",
              "      --fill-color: #1967D2;\n",
              "      --hover-bg-color: #E2EBFA;\n",
              "      --hover-fill-color: #174EA6;\n",
              "      --disabled-fill-color: #AAA;\n",
              "      --disabled-bg-color: #DDD;\n",
              "  }\n",
              "\n",
              "  [theme=dark] .colab-df-quickchart {\n",
              "      --bg-color: #3B4455;\n",
              "      --fill-color: #D2E3FC;\n",
              "      --hover-bg-color: #434B5C;\n",
              "      --hover-fill-color: #FFFFFF;\n",
              "      --disabled-bg-color: #3B4455;\n",
              "      --disabled-fill-color: #666;\n",
              "  }\n",
              "\n",
              "  .colab-df-quickchart {\n",
              "    background-color: var(--bg-color);\n",
              "    border: none;\n",
              "    border-radius: 50%;\n",
              "    cursor: pointer;\n",
              "    display: none;\n",
              "    fill: var(--fill-color);\n",
              "    height: 32px;\n",
              "    padding: 0;\n",
              "    width: 32px;\n",
              "  }\n",
              "\n",
              "  .colab-df-quickchart:hover {\n",
              "    background-color: var(--hover-bg-color);\n",
              "    box-shadow: 0 1px 2px rgba(60, 64, 67, 0.3), 0 1px 3px 1px rgba(60, 64, 67, 0.15);\n",
              "    fill: var(--button-hover-fill-color);\n",
              "  }\n",
              "\n",
              "  .colab-df-quickchart-complete:disabled,\n",
              "  .colab-df-quickchart-complete:disabled:hover {\n",
              "    background-color: var(--disabled-bg-color);\n",
              "    fill: var(--disabled-fill-color);\n",
              "    box-shadow: none;\n",
              "  }\n",
              "\n",
              "  .colab-df-spinner {\n",
              "    border: 2px solid var(--fill-color);\n",
              "    border-color: transparent;\n",
              "    border-bottom-color: var(--fill-color);\n",
              "    animation:\n",
              "      spin 1s steps(1) infinite;\n",
              "  }\n",
              "\n",
              "  @keyframes spin {\n",
              "    0% {\n",
              "      border-color: transparent;\n",
              "      border-bottom-color: var(--fill-color);\n",
              "      border-left-color: var(--fill-color);\n",
              "    }\n",
              "    20% {\n",
              "      border-color: transparent;\n",
              "      border-left-color: var(--fill-color);\n",
              "      border-top-color: var(--fill-color);\n",
              "    }\n",
              "    30% {\n",
              "      border-color: transparent;\n",
              "      border-left-color: var(--fill-color);\n",
              "      border-top-color: var(--fill-color);\n",
              "      border-right-color: var(--fill-color);\n",
              "    }\n",
              "    40% {\n",
              "      border-color: transparent;\n",
              "      border-right-color: var(--fill-color);\n",
              "      border-top-color: var(--fill-color);\n",
              "    }\n",
              "    60% {\n",
              "      border-color: transparent;\n",
              "      border-right-color: var(--fill-color);\n",
              "    }\n",
              "    80% {\n",
              "      border-color: transparent;\n",
              "      border-right-color: var(--fill-color);\n",
              "      border-bottom-color: var(--fill-color);\n",
              "    }\n",
              "    90% {\n",
              "      border-color: transparent;\n",
              "      border-bottom-color: var(--fill-color);\n",
              "    }\n",
              "  }\n",
              "</style>\n",
              "\n",
              "  <script>\n",
              "    async function quickchart(key) {\n",
              "      const quickchartButtonEl =\n",
              "        document.querySelector('#' + key + ' button');\n",
              "      quickchartButtonEl.disabled = true;  // To prevent multiple clicks.\n",
              "      quickchartButtonEl.classList.add('colab-df-spinner');\n",
              "      try {\n",
              "        const charts = await google.colab.kernel.invokeFunction(\n",
              "            'suggestCharts', [key], {});\n",
              "      } catch (error) {\n",
              "        console.error('Error during call to suggestCharts:', error);\n",
              "      }\n",
              "      quickchartButtonEl.classList.remove('colab-df-spinner');\n",
              "      quickchartButtonEl.classList.add('colab-df-quickchart-complete');\n",
              "    }\n",
              "    (() => {\n",
              "      let quickchartButtonEl =\n",
              "        document.querySelector('#df-6178321f-bf76-4952-a41f-1d39edca957c button');\n",
              "      quickchartButtonEl.style.display =\n",
              "        google.colab.kernel.accessAllowed ? 'block' : 'none';\n",
              "    })();\n",
              "  </script>\n",
              "</div>\n",
              "\n",
              "  <div id=\"id_ddf532fe-518c-491d-8872-0556266df6ba\">\n",
              "    <style>\n",
              "      .colab-df-generate {\n",
              "        background-color: #E8F0FE;\n",
              "        border: none;\n",
              "        border-radius: 50%;\n",
              "        cursor: pointer;\n",
              "        display: none;\n",
              "        fill: #1967D2;\n",
              "        height: 32px;\n",
              "        padding: 0 0 0 0;\n",
              "        width: 32px;\n",
              "      }\n",
              "\n",
              "      .colab-df-generate:hover {\n",
              "        background-color: #E2EBFA;\n",
              "        box-shadow: 0px 1px 2px rgba(60, 64, 67, 0.3), 0px 1px 3px 1px rgba(60, 64, 67, 0.15);\n",
              "        fill: #174EA6;\n",
              "      }\n",
              "\n",
              "      [theme=dark] .colab-df-generate {\n",
              "        background-color: #3B4455;\n",
              "        fill: #D2E3FC;\n",
              "      }\n",
              "\n",
              "      [theme=dark] .colab-df-generate:hover {\n",
              "        background-color: #434B5C;\n",
              "        box-shadow: 0px 1px 3px 1px rgba(0, 0, 0, 0.15);\n",
              "        filter: drop-shadow(0px 1px 2px rgba(0, 0, 0, 0.3));\n",
              "        fill: #FFFFFF;\n",
              "      }\n",
              "    </style>\n",
              "    <button class=\"colab-df-generate\" onclick=\"generateWithVariable('x')\"\n",
              "            title=\"Generate code using this dataframe.\"\n",
              "            style=\"display:none;\">\n",
              "\n",
              "  <svg xmlns=\"http://www.w3.org/2000/svg\" height=\"24px\"viewBox=\"0 0 24 24\"\n",
              "       width=\"24px\">\n",
              "    <path d=\"M7,19H8.4L18.45,9,17,7.55,7,17.6ZM5,21V16.75L18.45,3.32a2,2,0,0,1,2.83,0l1.4,1.43a1.91,1.91,0,0,1,.58,1.4,1.91,1.91,0,0,1-.58,1.4L9.25,21ZM18.45,9,17,7.55Zm-12,3A5.31,5.31,0,0,0,4.9,8.1,5.31,5.31,0,0,0,1,6.5,5.31,5.31,0,0,0,4.9,4.9,5.31,5.31,0,0,0,6.5,1,5.31,5.31,0,0,0,8.1,4.9,5.31,5.31,0,0,0,12,6.5,5.46,5.46,0,0,0,6.5,12Z\"/>\n",
              "  </svg>\n",
              "    </button>\n",
              "    <script>\n",
              "      (() => {\n",
              "      const buttonEl =\n",
              "        document.querySelector('#id_ddf532fe-518c-491d-8872-0556266df6ba button.colab-df-generate');\n",
              "      buttonEl.style.display =\n",
              "        google.colab.kernel.accessAllowed ? 'block' : 'none';\n",
              "\n",
              "      buttonEl.onclick = () => {\n",
              "        google.colab.notebook.generateWithVariable('x');\n",
              "      }\n",
              "      })();\n",
              "    </script>\n",
              "  </div>\n",
              "\n",
              "    </div>\n",
              "  </div>\n"
            ],
            "application/vnd.google.colaboratory.intrinsic+json": {
              "type": "dataframe",
              "variable_name": "x"
            }
          },
          "metadata": {},
          "execution_count": 70
        }
      ]
    },
    {
      "cell_type": "code",
      "source": [
        "x.shape"
      ],
      "metadata": {
        "colab": {
          "base_uri": "https://localhost:8080/"
        },
        "id": "aqfdqtYnhJ1b",
        "outputId": "14ca41a2-34ca-49d3-cdc9-89a14a08049c"
      },
      "execution_count": null,
      "outputs": [
        {
          "output_type": "execute_result",
          "data": {
            "text/plain": [
              "(57735, 25)"
            ]
          },
          "metadata": {},
          "execution_count": 71
        }
      ]
    },
    {
      "cell_type": "code",
      "source": [
        "y"
      ],
      "metadata": {
        "colab": {
          "base_uri": "https://localhost:8080/"
        },
        "id": "MsELnGZAVPpc",
        "outputId": "817f9de9-c012-4d5e-a5b8-4ec047311290"
      },
      "execution_count": null,
      "outputs": [
        {
          "output_type": "execute_result",
          "data": {
            "text/plain": [
              "0        1\n",
              "1        1\n",
              "2        1\n",
              "3        1\n",
              "4        1\n",
              "        ..\n",
              "57730    1\n",
              "57731    1\n",
              "57732    1\n",
              "57733    1\n",
              "57734    1\n",
              "Name: readmitted, Length: 57735, dtype: int64"
            ]
          },
          "metadata": {},
          "execution_count": 72
        }
      ]
    },
    {
      "cell_type": "code",
      "source": [
        "from sklearn.model_selection import train_test_split\n",
        "x_train,x_test,y_train,y_test = train_test_split(x,y, random_state=20,test_size=0.25)"
      ],
      "metadata": {
        "id": "K4BkeY7SVPnA"
      },
      "execution_count": null,
      "outputs": []
    },
    {
      "cell_type": "code",
      "source": [
        "x_train.shape,x_test.shape,y_train.shape,y_test.shape"
      ],
      "metadata": {
        "colab": {
          "base_uri": "https://localhost:8080/"
        },
        "id": "yTSB6tKIX0RD",
        "outputId": "f852e9d1-f55e-4606-cb4b-d6a89ccc5cc7"
      },
      "execution_count": null,
      "outputs": [
        {
          "output_type": "execute_result",
          "data": {
            "text/plain": [
              "((43301, 25), (14434, 25), (43301,), (14434,))"
            ]
          },
          "metadata": {},
          "execution_count": 75
        }
      ]
    },
    {
      "cell_type": "code",
      "source": [
        "from sklearn.linear_model import LogisticRegression\n",
        "from sklearn.tree import DecisionTreeClassifier\n",
        "from sklearn.neighbors import KNeighborsClassifier\n",
        "from sklearn.ensemble import RandomForestClassifier, AdaBoostClassifier, GradientBoostingClassifier\n",
        "from xgboost.sklearn import XGBClassifier\n",
        "from sklearn import metrics\n",
        "from sklearn.metrics import accuracy_score,roc_curve,confusion_matrix,classification_report,auc"
      ],
      "metadata": {
        "id": "Hs8h2kMlX0Nm"
      },
      "execution_count": null,
      "outputs": []
    },
    {
      "cell_type": "code",
      "source": [
        "model_dict={}\n",
        "model_dict['LogisticRegression']=LogisticRegression(solver='liblinear',random_state=20)\n",
        "model_dict['DecisionTreeClassifier']=DecisionTreeClassifier(random_state=20)\n",
        "model_dict['KNeighborsClassifier']=KNeighborsClassifier()\n",
        "model_dict['RandomForestClassifier']=RandomForestClassifier(random_state=20)\n",
        "model_dict['AdaBoostClassifier']=AdaBoostClassifier(random_state=20)\n",
        "model_dict['GradientBoostingClassifier']=GradientBoostingClassifier(random_state=20)"
      ],
      "metadata": {
        "id": "XEmmaxypX0LR"
      },
      "execution_count": null,
      "outputs": []
    },
    {
      "cell_type": "code",
      "source": [
        "def model_test(x_train,x_test,y_train,y_test,model,model_name):\n",
        "  model.fit(x_train,y_train)\n",
        "  y_pred=model.predict(x_test)\n",
        "  accuracy=accuracy_score(y_test,y_pred)\n",
        "  print('=================================================={}=============================================='.format(model_name))\n",
        "  print('score is :{}'.format(accuracy))\n",
        "  print()"
      ],
      "metadata": {
        "id": "M4zNyQ8NX0JE"
      },
      "execution_count": null,
      "outputs": []
    },
    {
      "cell_type": "code",
      "source": [
        "for model_name,model in model_dict.items():\n",
        "  model_test(x_train,x_test,y_train,y_test,model,model_name)"
      ],
      "metadata": {
        "colab": {
          "base_uri": "https://localhost:8080/"
        },
        "id": "Q6x3lZodX0Gp",
        "outputId": "e7738aec-00a2-4f11-cf24-e0fef0dddeb1"
      },
      "execution_count": null,
      "outputs": [
        {
          "output_type": "stream",
          "name": "stdout",
          "text": [
            "==================================================LogisticRegression==============================================\n",
            "score is :0.8857558542330608\n",
            "\n",
            "==================================================DecisionTreeClassifier==============================================\n",
            "score is :0.7837744215047804\n",
            "\n",
            "==================================================KNeighborsClassifier==============================================\n",
            "score is :0.8741166689760288\n",
            "\n",
            "==================================================RandomForestClassifier==============================================\n",
            "score is :0.8863101011500624\n",
            "\n",
            "==================================================AdaBoostClassifier==============================================\n",
            "score is :0.8859636968269364\n",
            "\n",
            "==================================================GradientBoostingClassifier==============================================\n",
            "score is :0.8858944159623112\n",
            "\n"
          ]
        }
      ]
    },
    {
      "cell_type": "code",
      "source": [
        "for model_name,model in model_dict.items():\n",
        "  p=model.predict(x_test)\n",
        "  print('Testing accuracy of',model_name,'is',accuracy_score(y_test,p))"
      ],
      "metadata": {
        "colab": {
          "base_uri": "https://localhost:8080/"
        },
        "id": "OaujqceFN5WW",
        "outputId": "4d4391a5-cc19-4cff-ea1e-c58124bea8c0"
      },
      "execution_count": null,
      "outputs": [
        {
          "output_type": "stream",
          "name": "stdout",
          "text": [
            "Testing accuracy of LogisticRegression is 0.8857558542330608\n",
            "Testing accuracy of DecisionTreeClassifier is 0.7837744215047804\n",
            "Testing accuracy of KNeighborsClassifier is 0.8741166689760288\n",
            "Testing accuracy of RandomForestClassifier is 0.8863101011500624\n",
            "Testing accuracy of AdaBoostClassifier is 0.8859636968269364\n",
            "Testing accuracy of GradientBoostingClassifier is 0.8858944159623112\n"
          ]
        }
      ]
    },
    {
      "cell_type": "code",
      "source": [
        "rfc=RandomForestClassifier(random_state=20)\n",
        "rfc.fit(x_train,y_train)\n",
        "pred_rfc=rfc.predict(x_test)\n",
        "print('Training accuracy_score of RandomForestClassifier',accuracy_score(y_test,pred_rfc))"
      ],
      "metadata": {
        "colab": {
          "base_uri": "https://localhost:8080/"
        },
        "id": "Q7FX_zrON5Sz",
        "outputId": "430ecfcc-57f4-4f52-b678-e7930b740eff"
      },
      "execution_count": null,
      "outputs": [
        {
          "output_type": "stream",
          "name": "stdout",
          "text": [
            "Training accuracy_score of RandomForestClassifier 0.8863101011500624\n"
          ]
        }
      ]
    },
    {
      "source": [
        "importances = rfc.feature_importances_\n",
        "for i,v in enumerate(importances):\n",
        "    print('Feature: %0d, Score: %.5f' % (i,v))\n",
        "# Assuming 'x' is your DataFrame, extract the column names\n",
        "columns = x.columns\n",
        "print(columns) # Now 'columns' is defined\n",
        "plt.figure(figsize=(15,10))\n",
        "plt.bar([x for x in range(len(importances))], importances)\n",
        "plt.xticks(rotation=90)\n",
        "plt.show()"
      ],
      "cell_type": "code",
      "metadata": {
        "colab": {
          "base_uri": "https://localhost:8080/",
          "height": 1000
        },
        "id": "vEk7qH1zUEs6",
        "outputId": "7b84be76-9e3f-42b8-c179-bdd6673a40fc"
      },
      "execution_count": null,
      "outputs": [
        {
          "output_type": "stream",
          "name": "stdout",
          "text": [
            "Feature: 0, Score: 0.02685\n",
            "Feature: 1, Score: 0.04205\n",
            "Feature: 2, Score: 0.03986\n",
            "Feature: 3, Score: 0.02821\n",
            "Feature: 4, Score: 0.03477\n",
            "Feature: 5, Score: 0.08461\n",
            "Feature: 6, Score: 0.13971\n",
            "Feature: 7, Score: 0.11781\n",
            "Feature: 8, Score: 0.02278\n",
            "Feature: 9, Score: 0.01630\n",
            "Feature: 10, Score: 0.05152\n",
            "Feature: 11, Score: 0.05545\n",
            "Feature: 12, Score: 0.05476\n",
            "Feature: 13, Score: 0.05687\n",
            "Feature: 14, Score: 0.05266\n",
            "Feature: 15, Score: 0.01529\n",
            "Feature: 16, Score: 0.00445\n",
            "Feature: 17, Score: 0.01631\n",
            "Feature: 18, Score: 0.02670\n",
            "Feature: 19, Score: 0.01682\n",
            "Feature: 20, Score: 0.01209\n",
            "Feature: 21, Score: 0.04247\n",
            "Feature: 22, Score: 0.02623\n",
            "Feature: 23, Score: 0.00776\n",
            "Feature: 24, Score: 0.00765\n",
            "Index(['gender', 'age', 'admission_type_id', 'discharge_disposition_id',\n",
            "       'admission_source_id', 'time_in_hospital', 'num_lab_procedures',\n",
            "       'num_medications', 'number_outpatient', 'number_emergency',\n",
            "       'number_inpatient', 'diag_1', 'diag_2', 'diag_3', 'number_diagnoses',\n",
            "       'metformin', 'repaglinide', 'glipizide', 'insulin', 'change',\n",
            "       'diabetesMed', 'age_derived', 'count_Steady', 'count_Down', 'count_Up'],\n",
            "      dtype='object')\n"
          ]
        },
        {
          "output_type": "display_data",
          "data": {
            "text/plain": [
              "<Figure size 1500x1000 with 1 Axes>"
            ],
            "image/png": "[encoded data removed]"
          },
          "metadata": {}
        }
      ]
    },
    {
      "cell_type": "code",
      "source": [
        "imp_cols=[]\n",
        "for i,v in enumerate(importances):\n",
        "  if (v>0.035):\n",
        "    imp_cols.append(columns[i])\n"
      ],
      "metadata": {
        "id": "TzibM2k4N5NO"
      },
      "execution_count": null,
      "outputs": []
    },
    {
      "cell_type": "code",
      "source": [
        "imp_cols"
      ],
      "metadata": {
        "colab": {
          "base_uri": "https://localhost:8080/"
        },
        "id": "-oRz4L1SN5KY",
        "outputId": "ca120af1-11a0-44f1-ed47-d7d4a720648e"
      },
      "execution_count": null,
      "outputs": [
        {
          "output_type": "execute_result",
          "data": {
            "text/plain": [
              "['age',\n",
              " 'admission_type_id',\n",
              " 'time_in_hospital',\n",
              " 'num_lab_procedures',\n",
              " 'num_medications',\n",
              " 'number_inpatient',\n",
              " 'diag_1',\n",
              " 'diag_2',\n",
              " 'diag_3',\n",
              " 'number_diagnoses',\n",
              " 'age_derived']"
            ]
          },
          "metadata": {},
          "execution_count": 100
        }
      ]
    },
    {
      "cell_type": "code",
      "source": [
        "final_data = data[imp_cols+['readmitted']].copy()"
      ],
      "metadata": {
        "id": "XRpaWy8zVHFC"
      },
      "execution_count": null,
      "outputs": []
    },
    {
      "cell_type": "code",
      "source": [
        "final_data.shape"
      ],
      "metadata": {
        "colab": {
          "base_uri": "https://localhost:8080/"
        },
        "id": "mT0UxSj-VHBC",
        "outputId": "f47e585e-b838-41d3-a1dd-3d024d554604"
      },
      "execution_count": null,
      "outputs": [
        {
          "output_type": "execute_result",
          "data": {
            "text/plain": [
              "(57735, 12)"
            ]
          },
          "metadata": {},
          "execution_count": 103
        }
      ]
    },
    {
      "cell_type": "code",
      "source": [
        "x1 = final_data.drop(columns=['readmitted'])\n",
        "y1 = final_data['readmitted']"
      ],
      "metadata": {
        "id": "04Gk9FxBVG-P"
      },
      "execution_count": null,
      "outputs": []
    },
    {
      "source": [
        "!pip install scikit-learn\n",
        "from sklearn.compose import ColumnTransformer # Import the ColumnTransformer class\n",
        "from sklearn.preprocessing import OrdinalEncoder # Import OrdinalEncoder\n",
        "\n",
        "ct = ColumnTransformer([('oe',OrdinalEncoder(),['diag_1','diag_2','number_diagnoses'])],remainder='passthrough')"
      ],
      "cell_type": "code",
      "metadata": {
        "colab": {
          "base_uri": "https://localhost:8080/"
        },
        "id": "GbFJ-rH2XCAJ",
        "outputId": "fa5eadc5-2548-4404-99e1-6089957b4e2c"
      },
      "execution_count": null,
      "outputs": [
        {
          "output_type": "stream",
          "name": "stdout",
          "text": [
            "Requirement already satisfied: scikit-learn in /usr/local/lib/python3.10/dist-packages (1.2.2)\n",
            "Requirement already satisfied: numpy>=1.17.3 in /usr/local/lib/python3.10/dist-packages (from scikit-learn) (1.25.2)\n",
            "Requirement already satisfied: scipy>=1.3.2 in /usr/local/lib/python3.10/dist-packages (from scikit-learn) (1.11.4)\n",
            "Requirement already satisfied: joblib>=1.1.1 in /usr/local/lib/python3.10/dist-packages (from scikit-learn) (1.4.2)\n",
            "Requirement already satisfied: threadpoolctl>=2.0.0 in /usr/local/lib/python3.10/dist-packages (from scikit-learn) (3.5.0)\n"
          ]
        }
      ]
    },
    {
      "cell_type": "code",
      "source": [
        "x1=ct.fit_transform(x1)"
      ],
      "metadata": {
        "id": "X_T12G4SVG4j"
      },
      "execution_count": null,
      "outputs": []
    },
    {
      "cell_type": "code",
      "source": [
        "x1.shape , y1.shape"
      ],
      "metadata": {
        "colab": {
          "base_uri": "https://localhost:8080/"
        },
        "id": "udgkBGzAVG1w",
        "outputId": "7673a413-058f-4134-f238-42d0ef52fccc"
      },
      "execution_count": null,
      "outputs": [
        {
          "output_type": "execute_result",
          "data": {
            "text/plain": [
              "((57735, 11), (57735,))"
            ]
          },
          "metadata": {},
          "execution_count": 111
        }
      ]
    },
    {
      "cell_type": "code",
      "source": [
        "x_train1,x_test1,y_train1,y_test1 = train_test_split(x1,y1,stratify=y1, random_state=20,test_size=0.25)"
      ],
      "metadata": {
        "id": "ZjFDZKf2VGzK"
      },
      "execution_count": null,
      "outputs": []
    },
    {
      "cell_type": "code",
      "source": [
        "x_train1.shape,x_test1.shape,y_train1.shape,y_test1.shape"
      ],
      "metadata": {
        "colab": {
          "base_uri": "https://localhost:8080/"
        },
        "id": "aiKY9cPjVGwm",
        "outputId": "f966cbd8-4914-4688-9484-056f72394f7c"
      },
      "execution_count": null,
      "outputs": [
        {
          "output_type": "execute_result",
          "data": {
            "text/plain": [
              "((43301, 11), (14434, 11), (43301,), (14434,))"
            ]
          },
          "metadata": {},
          "execution_count": 113
        }
      ]
    },
    {
      "cell_type": "code",
      "source": [
        "from imblearn.over_sampling import SMOTE\n",
        "smote = SMOTE()\n",
        "x1_res, y1_res = smote.fit_resample(x_train1, y_train1)"
      ],
      "metadata": {
        "id": "HQktnNe6VGjr"
      },
      "execution_count": null,
      "outputs": []
    },
    {
      "cell_type": "code",
      "source": [
        "x1_res=np.array(x1_res)\n",
        "y1_res=np.array(y1_res)"
      ],
      "metadata": {
        "id": "slhaYYllVGfr"
      },
      "execution_count": null,
      "outputs": []
    },
    {
      "cell_type": "code",
      "source": [
        "x_train1,x_test1,y_train1,y_test1 = train_test_split(x1_res,y1_res, random_state=20,test_size=0.25)"
      ],
      "metadata": {
        "id": "keBhahg9YIzv"
      },
      "execution_count": null,
      "outputs": []
    },
    {
      "cell_type": "code",
      "source": [
        "x_train1.shape,x_test1.shape,y_train1.shape,y_test1.shape"
      ],
      "metadata": {
        "colab": {
          "base_uri": "https://localhost:8080/"
        },
        "id": "zrbyBILWVGUD",
        "outputId": "1418b4a8-35d5-4007-db89-64c89dff4899"
      },
      "execution_count": null,
      "outputs": [
        {
          "output_type": "execute_result",
          "data": {
            "text/plain": [
              "((57526, 11), (19176, 11), (57526,), (19176,))"
            ]
          },
          "metadata": {},
          "execution_count": 117
        }
      ]
    },
    {
      "cell_type": "code",
      "source": [
        "for model_name,model in model_dict.items():\n",
        "  model_test(x_train1,x_test1,y_train1,y_test1,model,model_name)"
      ],
      "metadata": {
        "colab": {
          "base_uri": "https://localhost:8080/"
        },
        "outputId": "2ad09e02-db4e-4afc-daef-41158d1cab77",
        "id": "xd-FhJ_fYguT"
      },
      "execution_count": null,
      "outputs": [
        {
          "output_type": "stream",
          "name": "stdout",
          "text": [
            "==================================================LogisticRegression==============================================\n",
            "score is :0.6003337505214852\n",
            "\n",
            "==================================================DecisionTreeClassifier==============================================\n",
            "score is :0.870723821443471\n",
            "\n",
            "==================================================KNeighborsClassifier==============================================\n",
            "score is :0.7989153108051731\n",
            "\n",
            "==================================================RandomForestClassifier==============================================\n",
            "score is :0.9368481435127243\n",
            "\n",
            "==================================================AdaBoostClassifier==============================================\n",
            "score is :0.808249895702962\n",
            "\n",
            "==================================================GradientBoostingClassifier==============================================\n",
            "score is :0.9035773884021694\n",
            "\n"
          ]
        }
      ]
    },
    {
      "source": [
        "# Assuming 'model_test' function returns predictions\n",
        "def model_test(x_train1, x_test1, y_train1, y_test1, model, model_name):\n",
        "    # ... your existing model_test code ...\n",
        "\n",
        "    # Fit the model on the training data\n",
        "    model.fit(x_train1, y_train1)\n",
        "\n",
        "    # Make predictions on the test data\n",
        "    predictions = model.predict(x_test1)  # Assign predictions to a variable\n",
        "\n",
        "    # Add a return statement to return predictions\n",
        "    return predictions\n",
        "\n",
        "pred_rfc = model_test(x_train1, x_test1, y_train1, y_test1, model, model_name)\n",
        "\n",
        "# Check shapes before creating confusion matrix\n",
        "print(\"Shape of y_test1:\", y_test1.shape)\n",
        "print(\"Shape of pred_rfc:\", pred_rfc.shape)\n",
        "\n",
        "cf_matrix = confusion_matrix(y_test1, pred_rfc)\n",
        "sns.heatmap(cf_matrix/np.sum(cf_matrix), annot=True, fmt='.2%')\n",
        "plt.title('Confusion Matrix of Random Forest Classifier')\n",
        "plt.xlabel('Predicted')\n",
        "plt.ylabel('Actual')"
      ],
      "cell_type": "code",
      "metadata": {
        "colab": {
          "base_uri": "https://localhost:8080/",
          "height": 526
        },
        "id": "aSyEY1aMarsd",
        "outputId": "795350cf-46ba-4f81-b5d6-a4e90dd301b2"
      },
      "execution_count": null,
      "outputs": [
        {
          "output_type": "stream",
          "name": "stdout",
          "text": [
            "Shape of y_test1: (19176,)\n",
            "Shape of pred_rfc: (19176,)\n"
          ]
        },
        {
          "output_type": "execute_result",
          "data": {
            "text/plain": [
              "Text(50.722222222222214, 0.5, 'Actual')"
            ]
          },
          "metadata": {},
          "execution_count": 123
        },
        {
          "output_type": "display_data",
          "data": {
            "text/plain": [
              "<Figure size 640x480 with 2 Axes>"
            ],
            "image/png": "[encoded data removed]"
          },
          "metadata": {}
        }
      ]
    },
    {
      "source": [
        "import matplotlib.pyplot as plt\n",
        "from sklearn.metrics import roc_curve, roc_auc_score\n",
        "\n",
        "# Assuming 'model_test' function returns predictions\n",
        "def model_test(x_train1, x_test1, y_train1, y_test1, model, model_name):\n",
        "    # ... your existing model_test code ...\n",
        "\n",
        "    # Fit the model on the training data\n",
        "    model.fit(x_train1, y_train1)\n",
        "\n",
        "    # Make predictions on the test data (for ROC curve, get probabilities)\n",
        "    y_pred_proba = model.predict_proba(x_test1)[:, 1]  # Probability of positive class\n",
        "\n",
        "    # Add a return statement to return probabilities\n",
        "    return y_pred_proba\n",
        "\n",
        "y_pred_proba = model_test(x_train1, x_test1, y_train1, y_test1, model, model_name)\n",
        "\n",
        "# Calculate ROC curve\n",
        "fpr, tpr, thresholds = roc_curve(y_test1, y_pred_proba)\n",
        "\n",
        "# Calculate AUC (Area Under the Curve)\n",
        "roc_auc = roc_auc_score(y_test1, y_pred_proba)\n",
        "\n",
        "# Plot ROC curve\n",
        "plt.figure()\n",
        "plt.plot(fpr, tpr, label='ROC curve (area = %0.2f)' % roc_auc)\n",
        "plt.plot([0, 1], [0, 1], 'k--')  # Diagonal line for random classifier\n",
        "plt.xlim([0.0, 1.0])\n",
        "plt.ylim([0.0, 1.05])\n",
        "plt.xlabel('False Positive Rate')\n",
        "plt.ylabel('True Positive Rate')\n",
        "plt.title('Receiver Operating Characteristic (ROC)')\n",
        "plt.legend(loc=\"lower right\")\n",
        "plt.show()"
      ],
      "cell_type": "code",
      "metadata": {
        "colab": {
          "base_uri": "https://localhost:8080/",
          "height": 472
        },
        "id": "txsRUD3sbKb5",
        "outputId": "7b5c4d6a-52b1-4c72-aae2-e32c80c66ccd"
      },
      "execution_count": null,
      "outputs": [
        {
          "output_type": "display_data",
          "data": {
            "text/plain": [
              "<Figure size 640x480 with 1 Axes>"
            ],
            "image/png": "[encoded data removed]"
          },
          "metadata": {}
        }
      ]
    },
    {
      "cell_type": "code",
      "source": [
        "print(classification_report(y_test1,pred_rfc))"
      ],
      "metadata": {
        "colab": {
          "base_uri": "https://localhost:8080/"
        },
        "id": "g6yMDzr5VGLO",
        "outputId": "ceef7daf-eafa-4de0-dbb2-b43ea1fbe59b"
      },
      "execution_count": null,
      "outputs": [
        {
          "output_type": "stream",
          "name": "stdout",
          "text": [
            "              precision    recall  f1-score   support\n",
            "\n",
            "           0       0.98      0.82      0.89      9550\n",
            "           1       0.85      0.98      0.91      9626\n",
            "\n",
            "    accuracy                           0.90     19176\n",
            "   macro avg       0.91      0.90      0.90     19176\n",
            "weighted avg       0.91      0.90      0.90     19176\n",
            "\n"
          ]
        }
      ]
    },
    {
      "cell_type": "code",
      "source": [
        "import pickle"
      ],
      "metadata": {
        "id": "virkTY9GVGIv"
      },
      "execution_count": null,
      "outputs": []
    },
    {
      "cell_type": "code",
      "source": [
        "pickle.dump(rfc,open('model.pkl','wb'))"
      ],
      "metadata": {
        "id": "cTvcbdY7VGGU"
      },
      "execution_count": null,
      "outputs": []
    }
  ],
  "metadata": {
    "colab": {
      "name": "Welcome To Colab",
      "provenance": []
    },
    "kernelspec": {
      "display_name": "Python 3",
      "name": "python3"
    }
  },
  "nbformat": 4,
  "nbformat_minor": 0
}